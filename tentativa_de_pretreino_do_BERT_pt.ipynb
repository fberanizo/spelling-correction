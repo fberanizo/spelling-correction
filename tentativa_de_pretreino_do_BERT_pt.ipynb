{
  "nbformat": 4,
  "nbformat_minor": 0,
  "metadata": {
    "colab": {
      "name": "tentativa de pretreino do BERT-pt.ipynb",
      "provenance": [],
      "toc_visible": true,
      "authorship_tag": "ABX9TyNnJknJF/5AM+vJPWtOzDQ6",
      "include_colab_link": true
    },
    "kernelspec": {
      "name": "python3",
      "display_name": "Python 3"
    },
    "accelerator": "GPU",
    "widgets": {
      "application/vnd.jupyter.widget-state+json": {
        "7bd325059c464311a900e91c0034a32e": {
          "model_module": "@jupyter-widgets/controls",
          "model_name": "HBoxModel",
          "state": {
            "_view_name": "HBoxView",
            "_dom_classes": [],
            "_model_name": "HBoxModel",
            "_view_module": "@jupyter-widgets/controls",
            "_model_module_version": "1.5.0",
            "_view_count": null,
            "_view_module_version": "1.5.0",
            "box_style": "",
            "layout": "IPY_MODEL_85cd019396914c27aff9ddacd5f15a1f",
            "_model_module": "@jupyter-widgets/controls",
            "children": [
              "IPY_MODEL_12b65c5f5f014a3bb0397351a795deba",
              "IPY_MODEL_438a33fcc62049ec84d9400983cb5fad"
            ]
          }
        },
        "85cd019396914c27aff9ddacd5f15a1f": {
          "model_module": "@jupyter-widgets/base",
          "model_name": "LayoutModel",
          "state": {
            "_view_name": "LayoutView",
            "grid_template_rows": null,
            "right": null,
            "justify_content": null,
            "_view_module": "@jupyter-widgets/base",
            "overflow": null,
            "_model_module_version": "1.2.0",
            "_view_count": null,
            "flex_flow": null,
            "width": null,
            "min_width": null,
            "border": null,
            "align_items": null,
            "bottom": null,
            "_model_module": "@jupyter-widgets/base",
            "top": null,
            "grid_column": null,
            "overflow_y": null,
            "overflow_x": null,
            "grid_auto_flow": null,
            "grid_area": null,
            "grid_template_columns": null,
            "flex": null,
            "_model_name": "LayoutModel",
            "justify_items": null,
            "grid_row": null,
            "max_height": null,
            "align_content": null,
            "visibility": null,
            "align_self": null,
            "height": null,
            "min_height": null,
            "padding": null,
            "grid_auto_rows": null,
            "grid_gap": null,
            "max_width": null,
            "order": null,
            "_view_module_version": "1.2.0",
            "grid_template_areas": null,
            "object_position": null,
            "object_fit": null,
            "grid_auto_columns": null,
            "margin": null,
            "display": null,
            "left": null
          }
        },
        "12b65c5f5f014a3bb0397351a795deba": {
          "model_module": "@jupyter-widgets/controls",
          "model_name": "FloatProgressModel",
          "state": {
            "_view_name": "ProgressView",
            "style": "IPY_MODEL_9a97783779424a348dcbb776919c2b73",
            "_dom_classes": [],
            "description": "Downloading: 100%",
            "_model_name": "FloatProgressModel",
            "bar_style": "success",
            "max": 209528,
            "_view_module": "@jupyter-widgets/controls",
            "_model_module_version": "1.5.0",
            "value": 209528,
            "_view_count": null,
            "_view_module_version": "1.5.0",
            "orientation": "horizontal",
            "min": 0,
            "description_tooltip": null,
            "_model_module": "@jupyter-widgets/controls",
            "layout": "IPY_MODEL_89a25c9422134d5b8f23fbaba540d808"
          }
        },
        "438a33fcc62049ec84d9400983cb5fad": {
          "model_module": "@jupyter-widgets/controls",
          "model_name": "HTMLModel",
          "state": {
            "_view_name": "HTMLView",
            "style": "IPY_MODEL_69234f7a3d9046fca77a6abb1ef10132",
            "_dom_classes": [],
            "description": "",
            "_model_name": "HTMLModel",
            "placeholder": "​",
            "_view_module": "@jupyter-widgets/controls",
            "_model_module_version": "1.5.0",
            "value": " 210k/210k [00:02&lt;00:00, 90.9kB/s]",
            "_view_count": null,
            "_view_module_version": "1.5.0",
            "description_tooltip": null,
            "_model_module": "@jupyter-widgets/controls",
            "layout": "IPY_MODEL_e649eb55e50b4cf89891f980d9846224"
          }
        },
        "9a97783779424a348dcbb776919c2b73": {
          "model_module": "@jupyter-widgets/controls",
          "model_name": "ProgressStyleModel",
          "state": {
            "_view_name": "StyleView",
            "_model_name": "ProgressStyleModel",
            "description_width": "initial",
            "_view_module": "@jupyter-widgets/base",
            "_model_module_version": "1.5.0",
            "_view_count": null,
            "_view_module_version": "1.2.0",
            "bar_color": null,
            "_model_module": "@jupyter-widgets/controls"
          }
        },
        "89a25c9422134d5b8f23fbaba540d808": {
          "model_module": "@jupyter-widgets/base",
          "model_name": "LayoutModel",
          "state": {
            "_view_name": "LayoutView",
            "grid_template_rows": null,
            "right": null,
            "justify_content": null,
            "_view_module": "@jupyter-widgets/base",
            "overflow": null,
            "_model_module_version": "1.2.0",
            "_view_count": null,
            "flex_flow": null,
            "width": null,
            "min_width": null,
            "border": null,
            "align_items": null,
            "bottom": null,
            "_model_module": "@jupyter-widgets/base",
            "top": null,
            "grid_column": null,
            "overflow_y": null,
            "overflow_x": null,
            "grid_auto_flow": null,
            "grid_area": null,
            "grid_template_columns": null,
            "flex": null,
            "_model_name": "LayoutModel",
            "justify_items": null,
            "grid_row": null,
            "max_height": null,
            "align_content": null,
            "visibility": null,
            "align_self": null,
            "height": null,
            "min_height": null,
            "padding": null,
            "grid_auto_rows": null,
            "grid_gap": null,
            "max_width": null,
            "order": null,
            "_view_module_version": "1.2.0",
            "grid_template_areas": null,
            "object_position": null,
            "object_fit": null,
            "grid_auto_columns": null,
            "margin": null,
            "display": null,
            "left": null
          }
        },
        "69234f7a3d9046fca77a6abb1ef10132": {
          "model_module": "@jupyter-widgets/controls",
          "model_name": "DescriptionStyleModel",
          "state": {
            "_view_name": "StyleView",
            "_model_name": "DescriptionStyleModel",
            "description_width": "",
            "_view_module": "@jupyter-widgets/base",
            "_model_module_version": "1.5.0",
            "_view_count": null,
            "_view_module_version": "1.2.0",
            "_model_module": "@jupyter-widgets/controls"
          }
        },
        "e649eb55e50b4cf89891f980d9846224": {
          "model_module": "@jupyter-widgets/base",
          "model_name": "LayoutModel",
          "state": {
            "_view_name": "LayoutView",
            "grid_template_rows": null,
            "right": null,
            "justify_content": null,
            "_view_module": "@jupyter-widgets/base",
            "overflow": null,
            "_model_module_version": "1.2.0",
            "_view_count": null,
            "flex_flow": null,
            "width": null,
            "min_width": null,
            "border": null,
            "align_items": null,
            "bottom": null,
            "_model_module": "@jupyter-widgets/base",
            "top": null,
            "grid_column": null,
            "overflow_y": null,
            "overflow_x": null,
            "grid_auto_flow": null,
            "grid_area": null,
            "grid_template_columns": null,
            "flex": null,
            "_model_name": "LayoutModel",
            "justify_items": null,
            "grid_row": null,
            "max_height": null,
            "align_content": null,
            "visibility": null,
            "align_self": null,
            "height": null,
            "min_height": null,
            "padding": null,
            "grid_auto_rows": null,
            "grid_gap": null,
            "max_width": null,
            "order": null,
            "_view_module_version": "1.2.0",
            "grid_template_areas": null,
            "object_position": null,
            "object_fit": null,
            "grid_auto_columns": null,
            "margin": null,
            "display": null,
            "left": null
          }
        },
        "35f62ab720394fdd9bbb4f10ae97eac5": {
          "model_module": "@jupyter-widgets/controls",
          "model_name": "HBoxModel",
          "state": {
            "_view_name": "HBoxView",
            "_dom_classes": [],
            "_model_name": "HBoxModel",
            "_view_module": "@jupyter-widgets/controls",
            "_model_module_version": "1.5.0",
            "_view_count": null,
            "_view_module_version": "1.5.0",
            "box_style": "",
            "layout": "IPY_MODEL_36f833b7236f4af18d0e26e105e05006",
            "_model_module": "@jupyter-widgets/controls",
            "children": [
              "IPY_MODEL_f363c82ac508486a99e264a9797cada7",
              "IPY_MODEL_2f75c694f95a40399b762dd53d53f827"
            ]
          }
        },
        "36f833b7236f4af18d0e26e105e05006": {
          "model_module": "@jupyter-widgets/base",
          "model_name": "LayoutModel",
          "state": {
            "_view_name": "LayoutView",
            "grid_template_rows": null,
            "right": null,
            "justify_content": null,
            "_view_module": "@jupyter-widgets/base",
            "overflow": null,
            "_model_module_version": "1.2.0",
            "_view_count": null,
            "flex_flow": null,
            "width": null,
            "min_width": null,
            "border": null,
            "align_items": null,
            "bottom": null,
            "_model_module": "@jupyter-widgets/base",
            "top": null,
            "grid_column": null,
            "overflow_y": null,
            "overflow_x": null,
            "grid_auto_flow": null,
            "grid_area": null,
            "grid_template_columns": null,
            "flex": null,
            "_model_name": "LayoutModel",
            "justify_items": null,
            "grid_row": null,
            "max_height": null,
            "align_content": null,
            "visibility": null,
            "align_self": null,
            "height": null,
            "min_height": null,
            "padding": null,
            "grid_auto_rows": null,
            "grid_gap": null,
            "max_width": null,
            "order": null,
            "_view_module_version": "1.2.0",
            "grid_template_areas": null,
            "object_position": null,
            "object_fit": null,
            "grid_auto_columns": null,
            "margin": null,
            "display": null,
            "left": null
          }
        },
        "f363c82ac508486a99e264a9797cada7": {
          "model_module": "@jupyter-widgets/controls",
          "model_name": "FloatProgressModel",
          "state": {
            "_view_name": "ProgressView",
            "style": "IPY_MODEL_08c14441656d49d18b7ef7f6eb9d02ab",
            "_dom_classes": [],
            "description": "Downloading: 100%",
            "_model_name": "FloatProgressModel",
            "bar_style": "success",
            "max": 2,
            "_view_module": "@jupyter-widgets/controls",
            "_model_module_version": "1.5.0",
            "value": 2,
            "_view_count": null,
            "_view_module_version": "1.5.0",
            "orientation": "horizontal",
            "min": 0,
            "description_tooltip": null,
            "_model_module": "@jupyter-widgets/controls",
            "layout": "IPY_MODEL_319ffb4ea08846f5a897109b9dd38414"
          }
        },
        "2f75c694f95a40399b762dd53d53f827": {
          "model_module": "@jupyter-widgets/controls",
          "model_name": "HTMLModel",
          "state": {
            "_view_name": "HTMLView",
            "style": "IPY_MODEL_7bc68c8437d2436a9710a24ac885f857",
            "_dom_classes": [],
            "description": "",
            "_model_name": "HTMLModel",
            "placeholder": "​",
            "_view_module": "@jupyter-widgets/controls",
            "_model_module_version": "1.5.0",
            "value": " 2.00/2.00 [00:03&lt;00:00, 1.68s/B]",
            "_view_count": null,
            "_view_module_version": "1.5.0",
            "description_tooltip": null,
            "_model_module": "@jupyter-widgets/controls",
            "layout": "IPY_MODEL_f899c11f12c84455bf51ea2cf67de39c"
          }
        },
        "08c14441656d49d18b7ef7f6eb9d02ab": {
          "model_module": "@jupyter-widgets/controls",
          "model_name": "ProgressStyleModel",
          "state": {
            "_view_name": "StyleView",
            "_model_name": "ProgressStyleModel",
            "description_width": "initial",
            "_view_module": "@jupyter-widgets/base",
            "_model_module_version": "1.5.0",
            "_view_count": null,
            "_view_module_version": "1.2.0",
            "bar_color": null,
            "_model_module": "@jupyter-widgets/controls"
          }
        },
        "319ffb4ea08846f5a897109b9dd38414": {
          "model_module": "@jupyter-widgets/base",
          "model_name": "LayoutModel",
          "state": {
            "_view_name": "LayoutView",
            "grid_template_rows": null,
            "right": null,
            "justify_content": null,
            "_view_module": "@jupyter-widgets/base",
            "overflow": null,
            "_model_module_version": "1.2.0",
            "_view_count": null,
            "flex_flow": null,
            "width": null,
            "min_width": null,
            "border": null,
            "align_items": null,
            "bottom": null,
            "_model_module": "@jupyter-widgets/base",
            "top": null,
            "grid_column": null,
            "overflow_y": null,
            "overflow_x": null,
            "grid_auto_flow": null,
            "grid_area": null,
            "grid_template_columns": null,
            "flex": null,
            "_model_name": "LayoutModel",
            "justify_items": null,
            "grid_row": null,
            "max_height": null,
            "align_content": null,
            "visibility": null,
            "align_self": null,
            "height": null,
            "min_height": null,
            "padding": null,
            "grid_auto_rows": null,
            "grid_gap": null,
            "max_width": null,
            "order": null,
            "_view_module_version": "1.2.0",
            "grid_template_areas": null,
            "object_position": null,
            "object_fit": null,
            "grid_auto_columns": null,
            "margin": null,
            "display": null,
            "left": null
          }
        },
        "7bc68c8437d2436a9710a24ac885f857": {
          "model_module": "@jupyter-widgets/controls",
          "model_name": "DescriptionStyleModel",
          "state": {
            "_view_name": "StyleView",
            "_model_name": "DescriptionStyleModel",
            "description_width": "",
            "_view_module": "@jupyter-widgets/base",
            "_model_module_version": "1.5.0",
            "_view_count": null,
            "_view_module_version": "1.2.0",
            "_model_module": "@jupyter-widgets/controls"
          }
        },
        "f899c11f12c84455bf51ea2cf67de39c": {
          "model_module": "@jupyter-widgets/base",
          "model_name": "LayoutModel",
          "state": {
            "_view_name": "LayoutView",
            "grid_template_rows": null,
            "right": null,
            "justify_content": null,
            "_view_module": "@jupyter-widgets/base",
            "overflow": null,
            "_model_module_version": "1.2.0",
            "_view_count": null,
            "flex_flow": null,
            "width": null,
            "min_width": null,
            "border": null,
            "align_items": null,
            "bottom": null,
            "_model_module": "@jupyter-widgets/base",
            "top": null,
            "grid_column": null,
            "overflow_y": null,
            "overflow_x": null,
            "grid_auto_flow": null,
            "grid_area": null,
            "grid_template_columns": null,
            "flex": null,
            "_model_name": "LayoutModel",
            "justify_items": null,
            "grid_row": null,
            "max_height": null,
            "align_content": null,
            "visibility": null,
            "align_self": null,
            "height": null,
            "min_height": null,
            "padding": null,
            "grid_auto_rows": null,
            "grid_gap": null,
            "max_width": null,
            "order": null,
            "_view_module_version": "1.2.0",
            "grid_template_areas": null,
            "object_position": null,
            "object_fit": null,
            "grid_auto_columns": null,
            "margin": null,
            "display": null,
            "left": null
          }
        },
        "e914e9371d114ea8a403f8bdcf9851eb": {
          "model_module": "@jupyter-widgets/controls",
          "model_name": "HBoxModel",
          "state": {
            "_view_name": "HBoxView",
            "_dom_classes": [],
            "_model_name": "HBoxModel",
            "_view_module": "@jupyter-widgets/controls",
            "_model_module_version": "1.5.0",
            "_view_count": null,
            "_view_module_version": "1.5.0",
            "box_style": "",
            "layout": "IPY_MODEL_623d88d6668f41f7980e9b3942d9d03a",
            "_model_module": "@jupyter-widgets/controls",
            "children": [
              "IPY_MODEL_bb0aae10fb8f4f319656ddc88d2557f0",
              "IPY_MODEL_7b1549fe70164939b8f78a0b9bdba79c"
            ]
          }
        },
        "623d88d6668f41f7980e9b3942d9d03a": {
          "model_module": "@jupyter-widgets/base",
          "model_name": "LayoutModel",
          "state": {
            "_view_name": "LayoutView",
            "grid_template_rows": null,
            "right": null,
            "justify_content": null,
            "_view_module": "@jupyter-widgets/base",
            "overflow": null,
            "_model_module_version": "1.2.0",
            "_view_count": null,
            "flex_flow": null,
            "width": null,
            "min_width": null,
            "border": null,
            "align_items": null,
            "bottom": null,
            "_model_module": "@jupyter-widgets/base",
            "top": null,
            "grid_column": null,
            "overflow_y": null,
            "overflow_x": null,
            "grid_auto_flow": null,
            "grid_area": null,
            "grid_template_columns": null,
            "flex": null,
            "_model_name": "LayoutModel",
            "justify_items": null,
            "grid_row": null,
            "max_height": null,
            "align_content": null,
            "visibility": null,
            "align_self": null,
            "height": null,
            "min_height": null,
            "padding": null,
            "grid_auto_rows": null,
            "grid_gap": null,
            "max_width": null,
            "order": null,
            "_view_module_version": "1.2.0",
            "grid_template_areas": null,
            "object_position": null,
            "object_fit": null,
            "grid_auto_columns": null,
            "margin": null,
            "display": null,
            "left": null
          }
        },
        "bb0aae10fb8f4f319656ddc88d2557f0": {
          "model_module": "@jupyter-widgets/controls",
          "model_name": "FloatProgressModel",
          "state": {
            "_view_name": "ProgressView",
            "style": "IPY_MODEL_fd6658a31de9404184fceb5b2e62da4c",
            "_dom_classes": [],
            "description": "Downloading: 100%",
            "_model_name": "FloatProgressModel",
            "bar_style": "success",
            "max": 112,
            "_view_module": "@jupyter-widgets/controls",
            "_model_module_version": "1.5.0",
            "value": 112,
            "_view_count": null,
            "_view_module_version": "1.5.0",
            "orientation": "horizontal",
            "min": 0,
            "description_tooltip": null,
            "_model_module": "@jupyter-widgets/controls",
            "layout": "IPY_MODEL_5fc3c2554beb494d82831e71aa48685e"
          }
        },
        "7b1549fe70164939b8f78a0b9bdba79c": {
          "model_module": "@jupyter-widgets/controls",
          "model_name": "HTMLModel",
          "state": {
            "_view_name": "HTMLView",
            "style": "IPY_MODEL_3b2c37718e3443debad1d37663bff55b",
            "_dom_classes": [],
            "description": "",
            "_model_name": "HTMLModel",
            "placeholder": "​",
            "_view_module": "@jupyter-widgets/controls",
            "_model_module_version": "1.5.0",
            "value": " 112/112 [00:01&lt;00:00, 68.5B/s]",
            "_view_count": null,
            "_view_module_version": "1.5.0",
            "description_tooltip": null,
            "_model_module": "@jupyter-widgets/controls",
            "layout": "IPY_MODEL_9abb1c41974548729339cc133ec3d66c"
          }
        },
        "fd6658a31de9404184fceb5b2e62da4c": {
          "model_module": "@jupyter-widgets/controls",
          "model_name": "ProgressStyleModel",
          "state": {
            "_view_name": "StyleView",
            "_model_name": "ProgressStyleModel",
            "description_width": "initial",
            "_view_module": "@jupyter-widgets/base",
            "_model_module_version": "1.5.0",
            "_view_count": null,
            "_view_module_version": "1.2.0",
            "bar_color": null,
            "_model_module": "@jupyter-widgets/controls"
          }
        },
        "5fc3c2554beb494d82831e71aa48685e": {
          "model_module": "@jupyter-widgets/base",
          "model_name": "LayoutModel",
          "state": {
            "_view_name": "LayoutView",
            "grid_template_rows": null,
            "right": null,
            "justify_content": null,
            "_view_module": "@jupyter-widgets/base",
            "overflow": null,
            "_model_module_version": "1.2.0",
            "_view_count": null,
            "flex_flow": null,
            "width": null,
            "min_width": null,
            "border": null,
            "align_items": null,
            "bottom": null,
            "_model_module": "@jupyter-widgets/base",
            "top": null,
            "grid_column": null,
            "overflow_y": null,
            "overflow_x": null,
            "grid_auto_flow": null,
            "grid_area": null,
            "grid_template_columns": null,
            "flex": null,
            "_model_name": "LayoutModel",
            "justify_items": null,
            "grid_row": null,
            "max_height": null,
            "align_content": null,
            "visibility": null,
            "align_self": null,
            "height": null,
            "min_height": null,
            "padding": null,
            "grid_auto_rows": null,
            "grid_gap": null,
            "max_width": null,
            "order": null,
            "_view_module_version": "1.2.0",
            "grid_template_areas": null,
            "object_position": null,
            "object_fit": null,
            "grid_auto_columns": null,
            "margin": null,
            "display": null,
            "left": null
          }
        },
        "3b2c37718e3443debad1d37663bff55b": {
          "model_module": "@jupyter-widgets/controls",
          "model_name": "DescriptionStyleModel",
          "state": {
            "_view_name": "StyleView",
            "_model_name": "DescriptionStyleModel",
            "description_width": "",
            "_view_module": "@jupyter-widgets/base",
            "_model_module_version": "1.5.0",
            "_view_count": null,
            "_view_module_version": "1.2.0",
            "_model_module": "@jupyter-widgets/controls"
          }
        },
        "9abb1c41974548729339cc133ec3d66c": {
          "model_module": "@jupyter-widgets/base",
          "model_name": "LayoutModel",
          "state": {
            "_view_name": "LayoutView",
            "grid_template_rows": null,
            "right": null,
            "justify_content": null,
            "_view_module": "@jupyter-widgets/base",
            "overflow": null,
            "_model_module_version": "1.2.0",
            "_view_count": null,
            "flex_flow": null,
            "width": null,
            "min_width": null,
            "border": null,
            "align_items": null,
            "bottom": null,
            "_model_module": "@jupyter-widgets/base",
            "top": null,
            "grid_column": null,
            "overflow_y": null,
            "overflow_x": null,
            "grid_auto_flow": null,
            "grid_area": null,
            "grid_template_columns": null,
            "flex": null,
            "_model_name": "LayoutModel",
            "justify_items": null,
            "grid_row": null,
            "max_height": null,
            "align_content": null,
            "visibility": null,
            "align_self": null,
            "height": null,
            "min_height": null,
            "padding": null,
            "grid_auto_rows": null,
            "grid_gap": null,
            "max_width": null,
            "order": null,
            "_view_module_version": "1.2.0",
            "grid_template_areas": null,
            "object_position": null,
            "object_fit": null,
            "grid_auto_columns": null,
            "margin": null,
            "display": null,
            "left": null
          }
        },
        "d380755ae2ca4557af97236a1ab40260": {
          "model_module": "@jupyter-widgets/controls",
          "model_name": "HBoxModel",
          "state": {
            "_view_name": "HBoxView",
            "_dom_classes": [],
            "_model_name": "HBoxModel",
            "_view_module": "@jupyter-widgets/controls",
            "_model_module_version": "1.5.0",
            "_view_count": null,
            "_view_module_version": "1.5.0",
            "box_style": "",
            "layout": "IPY_MODEL_cda3926c4edd49d69548037f3ff3b7fd",
            "_model_module": "@jupyter-widgets/controls",
            "children": [
              "IPY_MODEL_6c8a7139978e4afd95c2ed516a300f37",
              "IPY_MODEL_0982357b3c0349cd80ff027404898159"
            ]
          }
        },
        "cda3926c4edd49d69548037f3ff3b7fd": {
          "model_module": "@jupyter-widgets/base",
          "model_name": "LayoutModel",
          "state": {
            "_view_name": "LayoutView",
            "grid_template_rows": null,
            "right": null,
            "justify_content": null,
            "_view_module": "@jupyter-widgets/base",
            "overflow": null,
            "_model_module_version": "1.2.0",
            "_view_count": null,
            "flex_flow": null,
            "width": null,
            "min_width": null,
            "border": null,
            "align_items": null,
            "bottom": null,
            "_model_module": "@jupyter-widgets/base",
            "top": null,
            "grid_column": null,
            "overflow_y": null,
            "overflow_x": null,
            "grid_auto_flow": null,
            "grid_area": null,
            "grid_template_columns": null,
            "flex": null,
            "_model_name": "LayoutModel",
            "justify_items": null,
            "grid_row": null,
            "max_height": null,
            "align_content": null,
            "visibility": null,
            "align_self": null,
            "height": null,
            "min_height": null,
            "padding": null,
            "grid_auto_rows": null,
            "grid_gap": null,
            "max_width": null,
            "order": null,
            "_view_module_version": "1.2.0",
            "grid_template_areas": null,
            "object_position": null,
            "object_fit": null,
            "grid_auto_columns": null,
            "margin": null,
            "display": null,
            "left": null
          }
        },
        "6c8a7139978e4afd95c2ed516a300f37": {
          "model_module": "@jupyter-widgets/controls",
          "model_name": "FloatProgressModel",
          "state": {
            "_view_name": "ProgressView",
            "style": "IPY_MODEL_85bf7970459c4769b655781ee0429005",
            "_dom_classes": [],
            "description": "Downloading: 100%",
            "_model_name": "FloatProgressModel",
            "bar_style": "success",
            "max": 43,
            "_view_module": "@jupyter-widgets/controls",
            "_model_module_version": "1.5.0",
            "value": 43,
            "_view_count": null,
            "_view_module_version": "1.5.0",
            "orientation": "horizontal",
            "min": 0,
            "description_tooltip": null,
            "_model_module": "@jupyter-widgets/controls",
            "layout": "IPY_MODEL_dfd0500f4a0d4713a244cf5d037b4a99"
          }
        },
        "0982357b3c0349cd80ff027404898159": {
          "model_module": "@jupyter-widgets/controls",
          "model_name": "HTMLModel",
          "state": {
            "_view_name": "HTMLView",
            "style": "IPY_MODEL_bff9cd00251a48eca2d76b6ad6374e26",
            "_dom_classes": [],
            "description": "",
            "_model_name": "HTMLModel",
            "placeholder": "​",
            "_view_module": "@jupyter-widgets/controls",
            "_model_module_version": "1.5.0",
            "value": " 43.0/43.0 [00:00&lt;00:00, 479B/s]",
            "_view_count": null,
            "_view_module_version": "1.5.0",
            "description_tooltip": null,
            "_model_module": "@jupyter-widgets/controls",
            "layout": "IPY_MODEL_900a537719ef484fb90dbe0616800465"
          }
        },
        "85bf7970459c4769b655781ee0429005": {
          "model_module": "@jupyter-widgets/controls",
          "model_name": "ProgressStyleModel",
          "state": {
            "_view_name": "StyleView",
            "_model_name": "ProgressStyleModel",
            "description_width": "initial",
            "_view_module": "@jupyter-widgets/base",
            "_model_module_version": "1.5.0",
            "_view_count": null,
            "_view_module_version": "1.2.0",
            "bar_color": null,
            "_model_module": "@jupyter-widgets/controls"
          }
        },
        "dfd0500f4a0d4713a244cf5d037b4a99": {
          "model_module": "@jupyter-widgets/base",
          "model_name": "LayoutModel",
          "state": {
            "_view_name": "LayoutView",
            "grid_template_rows": null,
            "right": null,
            "justify_content": null,
            "_view_module": "@jupyter-widgets/base",
            "overflow": null,
            "_model_module_version": "1.2.0",
            "_view_count": null,
            "flex_flow": null,
            "width": null,
            "min_width": null,
            "border": null,
            "align_items": null,
            "bottom": null,
            "_model_module": "@jupyter-widgets/base",
            "top": null,
            "grid_column": null,
            "overflow_y": null,
            "overflow_x": null,
            "grid_auto_flow": null,
            "grid_area": null,
            "grid_template_columns": null,
            "flex": null,
            "_model_name": "LayoutModel",
            "justify_items": null,
            "grid_row": null,
            "max_height": null,
            "align_content": null,
            "visibility": null,
            "align_self": null,
            "height": null,
            "min_height": null,
            "padding": null,
            "grid_auto_rows": null,
            "grid_gap": null,
            "max_width": null,
            "order": null,
            "_view_module_version": "1.2.0",
            "grid_template_areas": null,
            "object_position": null,
            "object_fit": null,
            "grid_auto_columns": null,
            "margin": null,
            "display": null,
            "left": null
          }
        },
        "bff9cd00251a48eca2d76b6ad6374e26": {
          "model_module": "@jupyter-widgets/controls",
          "model_name": "DescriptionStyleModel",
          "state": {
            "_view_name": "StyleView",
            "_model_name": "DescriptionStyleModel",
            "description_width": "",
            "_view_module": "@jupyter-widgets/base",
            "_model_module_version": "1.5.0",
            "_view_count": null,
            "_view_module_version": "1.2.0",
            "_model_module": "@jupyter-widgets/controls"
          }
        },
        "900a537719ef484fb90dbe0616800465": {
          "model_module": "@jupyter-widgets/base",
          "model_name": "LayoutModel",
          "state": {
            "_view_name": "LayoutView",
            "grid_template_rows": null,
            "right": null,
            "justify_content": null,
            "_view_module": "@jupyter-widgets/base",
            "overflow": null,
            "_model_module_version": "1.2.0",
            "_view_count": null,
            "flex_flow": null,
            "width": null,
            "min_width": null,
            "border": null,
            "align_items": null,
            "bottom": null,
            "_model_module": "@jupyter-widgets/base",
            "top": null,
            "grid_column": null,
            "overflow_y": null,
            "overflow_x": null,
            "grid_auto_flow": null,
            "grid_area": null,
            "grid_template_columns": null,
            "flex": null,
            "_model_name": "LayoutModel",
            "justify_items": null,
            "grid_row": null,
            "max_height": null,
            "align_content": null,
            "visibility": null,
            "align_self": null,
            "height": null,
            "min_height": null,
            "padding": null,
            "grid_auto_rows": null,
            "grid_gap": null,
            "max_width": null,
            "order": null,
            "_view_module_version": "1.2.0",
            "grid_template_areas": null,
            "object_position": null,
            "object_fit": null,
            "grid_auto_columns": null,
            "margin": null,
            "display": null,
            "left": null
          }
        },
        "761a665a98084b4c9d1b31dde40557b8": {
          "model_module": "@jupyter-widgets/controls",
          "model_name": "HBoxModel",
          "state": {
            "_view_name": "HBoxView",
            "_dom_classes": [],
            "_model_name": "HBoxModel",
            "_view_module": "@jupyter-widgets/controls",
            "_model_module_version": "1.5.0",
            "_view_count": null,
            "_view_module_version": "1.5.0",
            "box_style": "",
            "layout": "IPY_MODEL_59bc8c2db0f54e3bb1750abdc87e2ae9",
            "_model_module": "@jupyter-widgets/controls",
            "children": [
              "IPY_MODEL_b4cb6a5475444d668fd2359f658afbaa",
              "IPY_MODEL_833bc9e649ef4d59a735a5fab3e00ccd"
            ]
          }
        },
        "59bc8c2db0f54e3bb1750abdc87e2ae9": {
          "model_module": "@jupyter-widgets/base",
          "model_name": "LayoutModel",
          "state": {
            "_view_name": "LayoutView",
            "grid_template_rows": null,
            "right": null,
            "justify_content": null,
            "_view_module": "@jupyter-widgets/base",
            "overflow": null,
            "_model_module_version": "1.2.0",
            "_view_count": null,
            "flex_flow": "row wrap",
            "width": "100%",
            "min_width": null,
            "border": null,
            "align_items": null,
            "bottom": null,
            "_model_module": "@jupyter-widgets/base",
            "top": null,
            "grid_column": null,
            "overflow_y": null,
            "overflow_x": null,
            "grid_auto_flow": null,
            "grid_area": null,
            "grid_template_columns": null,
            "flex": null,
            "_model_name": "LayoutModel",
            "justify_items": null,
            "grid_row": null,
            "max_height": null,
            "align_content": null,
            "visibility": null,
            "align_self": null,
            "height": null,
            "min_height": null,
            "padding": null,
            "grid_auto_rows": null,
            "grid_gap": null,
            "max_width": null,
            "order": null,
            "_view_module_version": "1.2.0",
            "grid_template_areas": null,
            "object_position": null,
            "object_fit": null,
            "grid_auto_columns": null,
            "margin": null,
            "display": "inline-flex",
            "left": null
          }
        },
        "b4cb6a5475444d668fd2359f658afbaa": {
          "model_module": "@jupyter-widgets/controls",
          "model_name": "FloatProgressModel",
          "state": {
            "_view_name": "ProgressView",
            "style": "IPY_MODEL_92e7ea022f3344eab9880193f097c208",
            "_dom_classes": [],
            "description": "Validation sanity check: ",
            "_model_name": "FloatProgressModel",
            "bar_style": "info",
            "max": 1,
            "_view_module": "@jupyter-widgets/controls",
            "_model_module_version": "1.5.0",
            "value": 0,
            "_view_count": null,
            "_view_module_version": "1.5.0",
            "orientation": "horizontal",
            "min": 0,
            "description_tooltip": null,
            "_model_module": "@jupyter-widgets/controls",
            "layout": "IPY_MODEL_5e46216ee5df435481076d2543f9150f"
          }
        },
        "833bc9e649ef4d59a735a5fab3e00ccd": {
          "model_module": "@jupyter-widgets/controls",
          "model_name": "HTMLModel",
          "state": {
            "_view_name": "HTMLView",
            "style": "IPY_MODEL_4bf1d3b0b9984170b971662083573b6b",
            "_dom_classes": [],
            "description": "",
            "_model_name": "HTMLModel",
            "placeholder": "​",
            "_view_module": "@jupyter-widgets/controls",
            "_model_module_version": "1.5.0",
            "value": " 0/? [00:00&lt;?, ?it/s]",
            "_view_count": null,
            "_view_module_version": "1.5.0",
            "description_tooltip": null,
            "_model_module": "@jupyter-widgets/controls",
            "layout": "IPY_MODEL_5f43de8de3224fe38b42e934010e464b"
          }
        },
        "92e7ea022f3344eab9880193f097c208": {
          "model_module": "@jupyter-widgets/controls",
          "model_name": "ProgressStyleModel",
          "state": {
            "_view_name": "StyleView",
            "_model_name": "ProgressStyleModel",
            "description_width": "initial",
            "_view_module": "@jupyter-widgets/base",
            "_model_module_version": "1.5.0",
            "_view_count": null,
            "_view_module_version": "1.2.0",
            "bar_color": null,
            "_model_module": "@jupyter-widgets/controls"
          }
        },
        "5e46216ee5df435481076d2543f9150f": {
          "model_module": "@jupyter-widgets/base",
          "model_name": "LayoutModel",
          "state": {
            "_view_name": "LayoutView",
            "grid_template_rows": null,
            "right": null,
            "justify_content": null,
            "_view_module": "@jupyter-widgets/base",
            "overflow": null,
            "_model_module_version": "1.2.0",
            "_view_count": null,
            "flex_flow": null,
            "width": null,
            "min_width": null,
            "border": null,
            "align_items": null,
            "bottom": null,
            "_model_module": "@jupyter-widgets/base",
            "top": null,
            "grid_column": null,
            "overflow_y": null,
            "overflow_x": null,
            "grid_auto_flow": null,
            "grid_area": null,
            "grid_template_columns": null,
            "flex": "2",
            "_model_name": "LayoutModel",
            "justify_items": null,
            "grid_row": null,
            "max_height": null,
            "align_content": null,
            "visibility": null,
            "align_self": null,
            "height": null,
            "min_height": null,
            "padding": null,
            "grid_auto_rows": null,
            "grid_gap": null,
            "max_width": null,
            "order": null,
            "_view_module_version": "1.2.0",
            "grid_template_areas": null,
            "object_position": null,
            "object_fit": null,
            "grid_auto_columns": null,
            "margin": null,
            "display": null,
            "left": null
          }
        },
        "4bf1d3b0b9984170b971662083573b6b": {
          "model_module": "@jupyter-widgets/controls",
          "model_name": "DescriptionStyleModel",
          "state": {
            "_view_name": "StyleView",
            "_model_name": "DescriptionStyleModel",
            "description_width": "",
            "_view_module": "@jupyter-widgets/base",
            "_model_module_version": "1.5.0",
            "_view_count": null,
            "_view_module_version": "1.2.0",
            "_model_module": "@jupyter-widgets/controls"
          }
        },
        "5f43de8de3224fe38b42e934010e464b": {
          "model_module": "@jupyter-widgets/base",
          "model_name": "LayoutModel",
          "state": {
            "_view_name": "LayoutView",
            "grid_template_rows": null,
            "right": null,
            "justify_content": null,
            "_view_module": "@jupyter-widgets/base",
            "overflow": null,
            "_model_module_version": "1.2.0",
            "_view_count": null,
            "flex_flow": null,
            "width": null,
            "min_width": null,
            "border": null,
            "align_items": null,
            "bottom": null,
            "_model_module": "@jupyter-widgets/base",
            "top": null,
            "grid_column": null,
            "overflow_y": null,
            "overflow_x": null,
            "grid_auto_flow": null,
            "grid_area": null,
            "grid_template_columns": null,
            "flex": null,
            "_model_name": "LayoutModel",
            "justify_items": null,
            "grid_row": null,
            "max_height": null,
            "align_content": null,
            "visibility": null,
            "align_self": null,
            "height": null,
            "min_height": null,
            "padding": null,
            "grid_auto_rows": null,
            "grid_gap": null,
            "max_width": null,
            "order": null,
            "_view_module_version": "1.2.0",
            "grid_template_areas": null,
            "object_position": null,
            "object_fit": null,
            "grid_auto_columns": null,
            "margin": null,
            "display": null,
            "left": null
          }
        }
      }
    }
  },
  "cells": [
    {
      "cell_type": "markdown",
      "metadata": {
        "id": "view-in-github",
        "colab_type": "text"
      },
      "source": [
        "<a href=\"https://colab.research.google.com/github/fberanizo/spelling-correction/blob/master/tentativa_de_pretreino_do_BERT_pt.ipynb\" target=\"_parent\"><img src=\"https://colab.research.google.com/assets/colab-badge.svg\" alt=\"Open In Colab\"/></a>"
      ]
    },
    {
      "cell_type": "markdown",
      "metadata": {
        "id": "e9Rcg2OUj0kM",
        "colab_type": "text"
      },
      "source": [
        "# Grammatical Error Correction: FineTune in BERT PT\n",
        "\n",
        "**Nome: Fabio Beranizo Lopes**<br>\n",
        "**Nome: Luiz Pita Almeida**\n",
        "\n",
        "Usaremos o modelo BERT pré-treinado no dataset  BrWaC (Brazilian Web as Corpus) <br>\n",
        "\n",
        "Faremos um finetuning com os corpus:\n",
        "- textos literários brasileiros\n",
        "- floresta\n",
        "- CorpusTCC do Nilc\n",
        "- CHAVE Folha\n",
        "- CHAVE Público\n",
        "\n",
        "Avaliaremos o resultado no corpus do Nilc."
      ]
    },
    {
      "cell_type": "markdown",
      "metadata": {
        "id": "-CqS1DIKmJod",
        "colab_type": "text"
      },
      "source": [
        "## Mount Drive and Unzip Corpus"
      ]
    },
    {
      "cell_type": "code",
      "metadata": {
        "id": "UgfkJFL2jxyn",
        "colab_type": "code",
        "colab": {
          "base_uri": "https://localhost:8080/",
          "height": 122
        },
        "outputId": "cb26507f-9404-4b4b-8efa-5aab0793dd79"
      },
      "source": [
        "from google.colab import drive\n",
        "drive.mount(\"/content/drive\")"
      ],
      "execution_count": 1,
      "outputs": [
        {
          "output_type": "stream",
          "text": [
            "Go to this URL in a browser: https://accounts.google.com/o/oauth2/auth?client_id=947318989803-6bn6qk8qdgf4n4g3pfee6491hc0brc4i.apps.googleusercontent.com&redirect_uri=urn%3aietf%3awg%3aoauth%3a2.0%3aoob&response_type=code&scope=email%20https%3a%2f%2fwww.googleapis.com%2fauth%2fdocs.test%20https%3a%2f%2fwww.googleapis.com%2fauth%2fdrive%20https%3a%2f%2fwww.googleapis.com%2fauth%2fdrive.photos.readonly%20https%3a%2f%2fwww.googleapis.com%2fauth%2fpeopleapi.readonly\n",
            "\n",
            "Enter your authorization code:\n",
            "··········\n",
            "Mounted at /content/drive\n"
          ],
          "name": "stdout"
        }
      ]
    },
    {
      "cell_type": "code",
      "metadata": {
        "id": "4Jxpkq87mZ5t",
        "colab_type": "code",
        "colab": {
          "base_uri": "https://localhost:8080/",
          "height": 357
        },
        "outputId": "244a5800-c33f-4e09-8c80-8b19a6648828"
      },
      "source": [
        "!time unzip -n -qq \"/content/drive/My Drive/pt_corpus/CorpusTCC.zip\"\n",
        "!time unzip -n -qq \"/content/drive/My Drive/pt_corpus/brazilianliteture.zip\"\n",
        "!time unzip -n -qq \"/content/drive/My Drive/pt_corpus/corpusNilc.zip\"\n",
        "!time unzip -n -qq \"/content/drive/My Drive/pt_corpus/CHAVEFolha.zip\"\n",
        "!time unzip -n -qq \"/content/drive/My Drive/pt_corpus/CHAVEPublico.zip\""
      ],
      "execution_count": 2,
      "outputs": [
        {
          "output_type": "stream",
          "text": [
            "\n",
            "real\t0m4.805s\n",
            "user\t0m0.710s\n",
            "sys\t0m0.547s\n",
            "\n",
            "real\t0m3.871s\n",
            "user\t0m0.531s\n",
            "sys\t0m0.071s\n",
            "\n",
            "real\t0m11.445s\n",
            "user\t0m0.006s\n",
            "sys\t0m0.026s\n",
            "\n",
            "real\t0m16.330s\n",
            "user\t0m10.939s\n",
            "sys\t0m1.618s\n",
            "\n",
            "real\t1m11.130s\n",
            "user\t0m15.813s\n",
            "sys\t0m2.970s\n"
          ],
          "name": "stdout"
        }
      ]
    },
    {
      "cell_type": "markdown",
      "metadata": {
        "id": "NHTjW49x370a",
        "colab_type": "text"
      },
      "source": [
        "## Load Corpus"
      ]
    },
    {
      "cell_type": "markdown",
      "metadata": {
        "id": "2qbbzSWnnqn4",
        "colab_type": "text"
      },
      "source": [
        "### Load Floresta"
      ]
    },
    {
      "cell_type": "code",
      "metadata": {
        "id": "fay6SDUjnlY7",
        "colab_type": "code",
        "colab": {
          "base_uri": "https://localhost:8080/",
          "height": 275
        },
        "outputId": "97cd30c1-9a1f-49b0-f328-0807e4b83af1"
      },
      "source": [
        "import nltk\n",
        "nltk.download('floresta')\n",
        "from nltk.corpus import floresta\n",
        "\n",
        "floresta_data = [' '.join(seq) for seq in floresta.sents()]\n",
        "\n",
        "floresta_vocab = list(set(floresta.words()))\n",
        "\n",
        "print('Tamanho do vocab:', len(floresta_vocab))\n",
        "print('Número de sentenças:', len(floresta_data))\n",
        "for sentence in floresta_data[:10]:\n",
        "    print(sentence)"
      ],
      "execution_count": 3,
      "outputs": [
        {
          "output_type": "stream",
          "text": [
            "[nltk_data] Downloading package floresta to /root/nltk_data...\n",
            "[nltk_data]   Unzipping corpora/floresta.zip.\n",
            "Tamanho do vocab: 29421\n",
            "Número de sentenças: 9266\n",
            "Um revivalismo refrescante\n",
            "O 7_e_Meio é um ex-libris de a noite algarvia .\n",
            "É uma de as mais antigas discotecas de o Algarve , situada em Albufeira , que continua a manter os traços decorativos e as clientelas de sempre .\n",
            "É um_pouco a versão de uma espécie de « outro lado de a noite , a meio caminho entre os devaneios de uma fauna periférica , seja de Lisboa , Londres , Dublin ou Faro e Portimão , e a postura circunspecta de os fiéis de a casa , que de ela esperam a música « geracionista de os 60 ou de os 70 .\n",
            "Não deixa de ser , em os tempos que correm , um certo « very_typical algarvio , cabeça de cartaz para os que querem fugir a algumas movimentações nocturnas já a caminho de a ritualização de massas , de o género « vamos todos a o Calypso e encontramos- nos em a Locomia .\n",
            "E assim , a os 2,5 milhões que o Ministério_do_Planeamento_e_Administração_do_Território já gasta em o pagamento de o pessoal afecto a estes organismos , vêm juntar- se os montantes de as obras propriamente ditas , que os municípios , já com projectos em a mão , vêm reivindicar junto de o Executivo , como salienta aquele membro de o Governo .\n",
            "E o dinheiro « não falta só a as câmaras , lembra o secretário_de_Estado , que considera que a solução para as autarquias é « especializarem- se em fundos comunitários .\n",
            "Mas como , se muitas não dispõem , em os seus quadros , de os técnicos necessários ?\n",
            "« Encomendem- nos a projectistas de_fora porque , se as obras vierem a ser financiadas , eles até saem de_graça , já_que , em esse caso , « os fundos comunitários pagam os projectos , o mesmo não acontecendo quando eles são feitos por os GAT , dado serem organismos de o Estado .\n",
            "Essa poderá vir a ser uma hipótese , até porque , em o terreno , a capacidade de os GAT está cada_vez_mais enfraquecida .\n"
          ],
          "name": "stdout"
        }
      ]
    },
    {
      "cell_type": "markdown",
      "metadata": {
        "id": "GYySGlllo_4m",
        "colab_type": "text"
      },
      "source": [
        "### Load Brazilian Portuguese Corpus"
      ]
    },
    {
      "cell_type": "code",
      "metadata": {
        "id": "hm5y9DyFn1wa",
        "colab_type": "code",
        "colab": {
          "base_uri": "https://localhost:8080/",
          "height": 221
        },
        "outputId": "f7b8aa41-2075-41b4-9064-d64d3aa828f4"
      },
      "source": [
        "import os\n",
        "path = \"/content/Brazilian_Portugese_Corpus\"\n",
        "br_liteture_corpus = []\n",
        "for root, dirs, files in os.walk(path):\n",
        "    for file in files:\n",
        "        if file.endswith(\".txt\"):\n",
        "            path_file = os.path.join(root, file)\n",
        "            with open(path_file, encoding=\"latin1\") as txt_file:\n",
        "                br_liteture_corpus.append(\n",
        "                    txt_file.read().splitlines())\n",
        "\n",
        "br_liteture = [seq for filecorpus in br_liteture_corpus\n",
        "               for seq in filecorpus if seq is not '']\n",
        "words = [word for seq in br_liteture for word in seq.split()]\n",
        "br_liteture_vocab = list(set(words))\n",
        "print('Tamanho do vocab:', len(br_liteture_vocab))\n",
        "print('Número de sentenças:', len(br_liteture))\n",
        "for sentence in br_liteture[:10]:\n",
        "    print(sentence)"
      ],
      "execution_count": 4,
      "outputs": [
        {
          "output_type": "stream",
          "text": [
            "Tamanho do vocab: 233317\n",
            "Número de sentenças: 689490\n",
            "www.nead.unama.br\n",
            "1\n",
            "Universidade da Amazônia\n",
            "A Moreninha\n",
            "de Joaquim Manuel Macedo\n",
            "NEAD  NÚCLEO DE EDUCAÇÃO A DISTÂNCIA\n",
            "Av. Alcindo Cacela, 287  Umarizal\n",
            "CEP: 66060-902\n",
            "Belém  Pará\n",
            "Fones: (91) 210-3196 / 210-3181\n"
          ],
          "name": "stdout"
        }
      ]
    },
    {
      "cell_type": "markdown",
      "metadata": {
        "id": "lVwep9eUrU26",
        "colab_type": "text"
      },
      "source": [
        "### Load NILC TCC Corpus"
      ]
    },
    {
      "cell_type": "code",
      "metadata": {
        "id": "GbRp8RSXp_Br",
        "colab_type": "code",
        "colab": {
          "base_uri": "https://localhost:8080/",
          "height": 241
        },
        "outputId": "b7edd4ca-4364-4ac1-f383-7a013761a2b2"
      },
      "source": [
        "import os\n",
        "import glob\n",
        "path = \"/content/CorpusTCC\"\n",
        "corpusTCC = []\n",
        "for txt_file in glob.glob(os.path.join(path, \"*.txt\")):\n",
        "    with open(txt_file, encoding=\"latin1\") as txt:\n",
        "        corpusTCC.append(txt.read().splitlines())\n",
        "corpusTCC_data = [seq for filecorpus in corpusTCC\n",
        "                  for seq in filecorpus if seq is not '']\n",
        "words = [word for seq in corpusTCC_data for word in seq.split()]\n",
        "corpusTCC_vocab = list(set(words))\n",
        "print('Tamanho do vocab:', len(corpusTCC_vocab))\n",
        "print('Número de sentenças:', len(corpusTCC_data))\n",
        "for sentence in corpusTCC_data[:10]:\n",
        "    print(sentence)"
      ],
      "execution_count": 1,
      "outputs": [
        {
          "output_type": "stream",
          "text": [
            "Tamanho do vocab: 8411\n",
            "Número de sentenças: 732\n",
            "É indiscutível que os computadores têm uma importância crescente para a nossa sociedade cada vez mais complexa, e desde a invenção da escrita e da imprensa, nada tem causado tanto impacto social e estimulado tantas mudanças no mundo quanto o uso de computadores.\n",
            "A visão de que o uso de computadores na educação promove o aumento da produtividade, ensinando mais a mais gente em menos tempo, é o que baseava inicialmente as investigações sobre o uso de informática na educação. Atualmente, o que se enfatiza é o provável potencial oferecido pelo uso do computador no desenvolvimento de habilidades cognitivas que proporcionam melhores meios de ensino e aprendizagem. \n",
            "Os primeiros sistemas computacionais usados para o ensino são comumente conhecidos como CAI (Computer Assisted Instruction) e têm como objetivo principal a transmissão de informação (instrução) sobre determinado assunto (domínio) para o usuário/estudante. As informações são transmitidas de uma forma passiva e o sistema controla a interação. A participação do estudante se resume em selecionar alternativas. Devido a pouca capacidade cognitiva, o modelo de apresentação não pode ser alterado, o que faz o sistema agir da mesma forma com todos os estudantes. Uma das necessidades dos CAIs para realmente alcançarem seus objetivos é a flexibilidade no processo de ensino. Isto significa que o sistema precisa ser capaz de deduzir e manter um modelo detalhado do estudante, e utilizar estas informações para individualizar o ensino, modificando a apresentação do conteúdo e a estratégia de ensino, conforme necessário.\n",
            "Como o intuito de aperfeiçoar o uso de informática na educação, os CAIs são alvo de várias pesquisas sobre como melhorar a performance educacional em ambientes voltados para o ensino. Eles têm sofrido várias modificações, adaptações e ganharam recursos que tornaram sua capacidade de \"ensinar\" mais flexível quanto ao tipo de usuário, tipo de domínio das aplicações, tipo de equipamento e ambiente de trabalho utilizados, etc. Com essa evolução, os CAIs passam a ser vistos como ambientes propícios ao ensino, e sua gama de características educacionais aumentaram consideravelmente. \n",
            "Atualmente, pode-se classificar os tipos de CAIs como: Sistemas Tutoriais, Sistemas de Exercício e Prática, Jogos Instrucionais, Resolvedores de Problemas, Sistemas para Modelagem, Sistemas de Simulação e Sistemas de Exploração Livre.\n",
            "Os Sistemas Tutoriais geralmente possuem uma estrutura seqüencial rígida, onde o sistema apresenta um tópico sobre determinado assunto (domínio) e, logo após, faz uma série de perguntas a respeito desse assunto. Mediante as respostas do estudante, o sistema \"decide\" que atitude tomar, ou seja: seguir adiante, propor revisão do tópico atual ou proporcionar mais informações. Esta \"decisão\" é considerada uma estratégia didática, que é selecionada a partir do conhecimento que o sistema acumula sobre o aluno, durante a interação entre eles. Nesse tipo de CAI, o controle é inteiramente do sistema, o que de uma certa forma é considerado vantagem, por não permitir que o estudante se desvie do objetivo inicial. Mas, por outro lado, limita consideravelmente a evolução espontânea do estudante. Os tutoriais podem também incorporar técnicas de Inteligência Artificial (IA), para ter condições de decidir o que ensinar, como ensinar e quando ensinar, considerando para isto as características individuais (performance, preferências, etc.) de cada estudante e o conhecimento especialista sobre o domínio explicitado em sua base de conhecimento. \n",
            "Os Sistemas de Exercício e Prática requerem respostas imediatas do estudante, mas também oferecem retorno imediato. Este tipo de sistema retém inteiramente o controle da interação e proporciona o desenvolvimento de habilidades através de memorização e repetição, o que o torna cansativo rapidamente. A estratégia de ensino utilizada aqui é única: estímulo e resposta. Mesmo assim, torna-se eficaz para se alcançar treinamento, que é o objetivo principal desse tipo de sistema. \n",
            "Nos Jogos Instrucionais, a estratégia de ensino utilizada para se alcançar o objetivo educacional é o desafio. Entretanto, a competição provocada por este tipo de sistema, geralmente desvia a atenção do aluno do propósito real, que é a aquisição de algum conhecimento. Por outro lado, os jogos instrucionais podem ser utilizados para a criação de situações que favorecem a aprendizagem. Com isso, é relevante a participação do professor para influenciar o estudante a utilizar esse recurso para aprender sobre algum assunto específico. \n",
            "Os Resolvedores de Problemas, apresentam resultados que são alcançados com base nas informações que fazem parte do seu domínio, a partir de informações oferecidas ou problemas propostos pelo estudante. O ponto forte desse tipo de sistema é poder apresentar ao estudante o caminho percorrido, ou seja, os mecanismos que foram utilizados para se alcançar a resposta. O controle é inteiramente do sistema. Como exemplo desse tipo de sistema, podemos citar os Sistemas Baseados em Conhecimento.\n",
            "Os Sistemas para Modelagem propiciam um sistema do tipo Resolvedor de Problemas, com a diferença que, na modelagem, quem constrói a solução dentro das regras e limitações do sistema é o estudante. A estratégia utilizada nesse tipo de sistema é incentivar o aluno a obter uma representação formal e precisa do problema. Em geral, eles oferecem a possibilidade de verificar a corretude da solução construída, através do uso de simulação. O estudante pode tirar conclusões sobre o resultado e redefinir o modelo até que uma solução satisfatória seja alcançada. \n"
          ],
          "name": "stdout"
        }
      ]
    },
    {
      "cell_type": "markdown",
      "metadata": {
        "id": "bYtWtoCTxtys",
        "colab_type": "text"
      },
      "source": [
        "### Load CHAVEFolha"
      ]
    },
    {
      "cell_type": "code",
      "metadata": {
        "id": "OBIaCwNmxtOz",
        "colab_type": "code",
        "colab": {
          "base_uri": "https://localhost:8080/",
          "height": 241
        },
        "outputId": "a0aa9b1f-5874-4082-cbc5-1437d4b25ac9"
      },
      "source": [
        "import glob\n",
        "from bs4 import BeautifulSoup\n",
        "\n",
        "corpus_folha = []\n",
        "\n",
        "path = \"/content/folha94\"\n",
        "for sgml_file in glob.glob(os.path.join(path, \"*.sgml\")):\n",
        "    with open(sgml_file, encoding='latin1') as sgml:\n",
        "        text = sgml.read()\n",
        "        soup = BeautifulSoup(text)\n",
        "        text = [str(seq)[7:] for seq in soup.find_all('text')\n",
        "                if str(seq) is not '</text>' or str(seq) is not '<text>']\n",
        "        corpus_folha.append(text)\n",
        "\n",
        "path = \"/content/folha95\"\n",
        "for sgml_file in glob.glob(os.path.join(path, \"*.sgml\")):\n",
        "    with open(sgml_file, encoding='latin1') as sgml:\n",
        "        text = sgml.read()\n",
        "        soup = BeautifulSoup(text)\n",
        "        text = [str(seq)[7:] for seq in soup.find_all('text')\n",
        "                if str(seq) is not '</text>' or str(seq) is not '<text>']\n",
        "        corpus_folha.append(text)\n",
        "\n",
        "folha_data = [seq[:-7] for filecorpus in corpus_folha\n",
        "              for seq in filecorpus if seq is not '']\n",
        "folha_data = [subseq for seq in folha_data for subseq in seq.split('\\n')\n",
        "              if subseq is not '']\n",
        "words = [word for seq in folha_data for word in seq.split()]\n",
        "folha_vocab = list(set(words))\n",
        "print('Tamanho do vocab:', len(folha_vocab))\n",
        "print('Número de sentenças:', len(folha_data))\n",
        "for sentence in folha_data[:10]:\n",
        "    print(sentence)"
      ],
      "execution_count": 6,
      "outputs": [
        {
          "output_type": "stream",
          "text": [
            "Tamanho do vocab: 1012666\n",
            "Número de sentenças: 1186651\n",
            "Dois jogos definem hoje os finalistas do Campeonato Brasileiro de futebol deste ano. Em Campinas, o Guarani recebe o Palmeiras às 17h precisando vencer por dois gols.\n",
            "O outro jogo é Corinthians e Atlético-MG. Sua realização no Morumbi só foi definida na noite de anteontem. O clube de São Paulo e a Federação Paulista de Futebol reivindicavam adiar a partida para amanhã, alegando falta de segurança. A CBF confirmou o jogo às 17h. O estádio terá 70% da arquibancada interditada. Esporte\n",
            "Embora ainda sem confirmações ou anúncios oficiais, vão surgindo nomes que deverão compor o gabinete de Fernando Henrique Cardoso. O elenco que se desenha, com base no que parece ser uma combinação de critérios técnicos e políticos, é no geral respeitável.\n",
            "A escolha do titular da Fazenda, Pedro Malan, trouxe tranquilidade à economia. Um dos arquitetos do Real, de estilo sóbrio e diplomático, Malan acena com a preservação do plano, sem sobressaltos ou prestidigitações. O mesmo ocorre com as escolhas de Pérsio Arida e de Edmar Bacha para chefiar, respectivamente, o Banco Central e o BNDES. O nome de Arida já foi mesmo enviado para aprovação pelo Senado.\n",
            "Paulo Renato de Souza foi responsável pelo plano de governo de FHC. Com boa capacidade de articulação entre as áreas técnica e política, pode ir para um Planejamento fortalecido ou outra pasta.\n",
            "Quanto à Saúde, a indicação é bem-vinda. Figura de passagem inatacada pela vida pública, o cardiologista Adib Jatene possui uma imagem de lisura e competência técnica. Terá pela frente uma das mais graves crises que a saúde já atravessou no país.\n",
            "Também positiva é a possibilidade da escolha do respeitado cientista político Francisco Weffort para o Ministério da Cultura. O fato de o intelectual ser filiado ao PT pode contudo causar marolas internas no partido, que pretende fazer oposição ao próximo governo. À parte o mérito pessoal de Weffort, seu nome pode ainda servir para que FHC dê um matiz um pouco mais \"social\" à imagem do seu ministério.\n",
            "Outro nome que surge bem cotado é o de Reinhold Stephanes. Especialista na área de Previdência, conseguiu, como Jatene, emergir de uma participação no então soçobrante governo Collor preservando o respeito de que dispunha e livre de maiores suspeitas e acusações.\n",
            "Já a escolha de Sérgio Motta para a pasta das Comunicações destoa das acima mencionadas. Sem experiência específica na área, a confirmação do velho amigo de FHC traria uma incógnita ao ministério.\n",
            "Oposto da escolha pessoal das Comunicações, o Ministério dos Transportes pode ir em pagamento pelo apoio de campanha. Fala-se em Raimundo Brito, ex-secretário e indicação direta de ACM, para a suculenta pasta das pontes e estradas.\n"
          ],
          "name": "stdout"
        }
      ]
    },
    {
      "cell_type": "markdown",
      "metadata": {
        "id": "Yge7CKY_30ZY",
        "colab_type": "text"
      },
      "source": [
        "### Load CHAVEPúblico"
      ]
    },
    {
      "cell_type": "code",
      "metadata": {
        "id": "UUYQF2UN0FQO",
        "colab_type": "code",
        "colab": {
          "base_uri": "https://localhost:8080/",
          "height": 241
        },
        "outputId": "0d7767bb-68ab-4c0e-ba80-4531f3e994d7"
      },
      "source": [
        "corpus_publico = []\n",
        "\n",
        "path = \"/content/publico94\"\n",
        "for sgml_file in glob.glob(os.path.join(path, \"*.sgml\")):\n",
        "    with open(sgml_file, encoding='latin1') as sgml:\n",
        "        text = sgml.read()\n",
        "        soup = BeautifulSoup(text)\n",
        "        text = [str(seq)[7:] for seq in soup.find_all('text')\n",
        "                if str(seq) is not '</text>' or str(seq) is not '<text>']\n",
        "        corpus_publico.append(text)\n",
        "\n",
        "path = \"/content/publico95\"\n",
        "for sgml_file in glob.glob(os.path.join(path, \"*.sgml\")):\n",
        "    with open(sgml_file, encoding='latin1') as sgml:\n",
        "        text = sgml.read()\n",
        "        soup = BeautifulSoup(text)\n",
        "        text = [str(seq)[7:] for seq in soup.find_all('text')\n",
        "                if str(seq) is not '</text>' or str(seq) is not '<text>']\n",
        "        corpus_publico.append(text)\n",
        "\n",
        "publico_data = [seq[:-7] for filecorpus in corpus_publico\n",
        "                for seq in filecorpus if seq is not '']\n",
        "publico_data = [subseq for seq in publico_data for subseq in seq.split('\\n')\n",
        "               if subseq is not '']\n",
        "words = [word for seq in publico_data for word in seq.split()]\n",
        "publico_vocab = list(set(words))\n",
        "print('Tamanho do vocab:', len(publico_vocab))\n",
        "print('Número de sentenças:', len(publico_data))\n",
        "for sentence in publico_data[:10]:\n",
        "    print(sentence)"
      ],
      "execution_count": 7,
      "outputs": [
        {
          "output_type": "stream",
          "text": [
            "Tamanho do vocab: 1258391\n",
            "Número de sentenças: 1090825\n",
            "Do 6º para o 7º ano em dois quilómetros\n",
            "O João andou até ao ano passado na Escola Preparatória de Odivelas, a frequentar o sexto ano de escolaridade, que terminou com aproveitamento. Com a escola a dois passos de casa e um sucesso educativo óbvio, horário da parte da manhã, amigos feitos e hábitos adquiridos, foi com surpresa que ouviu a funcionária da escola informar a mãe de que não tinha vaga na escola de Odivelas -- que até passou para C++S este ano -- porque as vagas existentes estavam preenchidas pelos alunos «com prioridade», nas quais ele, João, não estava contemplado.\n",
            "Portanto, e porque o João não era nem um aluno com deficiências, nem um aluno excepcionalmente bom, era transferido para a Secundária da Póvoa de Santo Adrião, a mais de dois quilómetros de distância. O João, com os seus 13 anos, passou assim a frequentar uma escola «de madeira», sem os «luxos» a que ele estava habituado, isto é, sem cantina ou ginásio, e, para mais, durante a tarde, porque não conseguiu um horário da manhã. Vai passar a comer uma sopa em vez de uma refeição e vai fazer o percurso até à paragem da camioneta em vez das aulas de ginástica. Com um bónus suplementar: a escola subsidia-lhe metade do valor do passe.\n",
            "Margarida Portugal\n",
            "O jardim de infância e a discoteca\n",
            "Quando soube que tinha ficado colocada no jardim de infância de Fermontelos, situado a apenas 35 quilómetros da sua residência, no concelho de São Pedro do Sul, Graça Silva, educadora de infância, suspirou de alívio. Mas a alegria desapareceu no dia em que conheceu o seu novo local de trabalho. O espaço reservado às crianças, numa cave acanhada, era frio e húmido e, apesar de lá fora o sol brilhar, muito escuro. Mas isso não era o pior. Depressa se apercebeu de que, paredes meias com aquele espaço, funciona -- embora de forma irregular -- uma discoteca. Cujos clientes partilham, com as crianças, a casa de banho, situada no exterior.\n",
            "Muita lixívia, a absoluta necessidade, por parte dos pais -- que faziam por ignorar o cheiro a tabaco vindo da discoteca --, de recorrer àquele espaço e, decerto, muita insegurança, por parte das quatro educadoras de infância que no último ano lectivo por lá passaram, permitiram que, mesmo naquelas condições, três crianças frequentassem o jardim de infância. Mas, este ano, o facto de a paciência dos pais das 12 crianças inscritas se ter esgotado e o acaso de a educadora ser dirigente sindical contribuíram para que fosse tomada uma posição de força: os meninos, que têm entre três e cinco anos, encontram-se em casa, à espera de um novo espaço.\n",
            "O estranho caso do apoio pedagógico\n",
            "Antes de a ministra da Educação ter resolvido «acabar» com os furos nos horários, existia um despacho (de 1993) que determinava a forma como era possível distribuir horas para apoio pedagógico. No Conselho Directivo da Escola Secundária Pedro de Santarém, em Lisboa, acharam que era boa ideia.\n",
            "Vai daí, fizeram um projecto educativo em que se calculou (com base no tal despacho) o crédito horário global de que poderiam dispor. Ainda eram umas boas 320 horinhas que se podiam distribuir pelos professores. Em sintonia involuntária com o pensamento ministerial, o CD até achou que a prioridade, naquela escola em particular, eram os furos provocados pelas faltas dos professores. E, entusiasmados, organizaram um centro de recursos em que foi programado trabalho interdisciplinar e transdisciplinar, com materiais adequados, a utilizar pelos professores (com o crédito horário) nos furos dos alunos.\n"
          ],
          "name": "stdout"
        }
      ]
    },
    {
      "cell_type": "markdown",
      "metadata": {
        "id": "FKFZh9p8tY5j",
        "colab_type": "text"
      },
      "source": [
        "### Load NILC Corpus"
      ]
    },
    {
      "cell_type": "code",
      "metadata": {
        "id": "qob4dgoYsgmc",
        "colab_type": "code",
        "colab": {
          "base_uri": "https://localhost:8080/",
          "height": 241
        },
        "outputId": "3f048a90-f886-4e48-f1f2-642662185935"
      },
      "source": [
        "import glob\n",
        "path = \"/content/corpusNilc\"\n",
        "nilc_corpus = []\n",
        "for txt_file in glob.glob(os.path.join(path, \"*.txt\")):\n",
        "    with open(txt_file) as txt:\n",
        "        nilc_corpus.append(txt.read().splitlines())\n",
        "nilc_data = [seq for filecorpus in nilc_corpus\n",
        "             for seq in filecorpus if seq is not '']\n",
        "words = [word for seq in nilc_data for word in seq.split()]\n",
        "nilc_vocab = list(set(words))\n",
        "print('Tamanho do vocab:', len(nilc_vocab))\n",
        "print('Número de sentenças:', len(nilc_data))\n",
        "for sentence in nilc_data[:10]:\n",
        "    print(sentence)"
      ],
      "execution_count": 8,
      "outputs": [
        {
          "output_type": "stream",
          "text": [
            "Tamanho do vocab: 4742\n",
            "Número de sentenças: 1582\n",
            "﻿\n",
            "Animais selvagens são animais que vivem nas selvas ou florestas.\n",
            "O macaco, a onça, o leão, o tigre, etc. são animais selvagens.\n",
            "Muitos animais selvagens são ferozes.\n",
            "Nas matas brasileiras vivem muitos animais selvagens.\n",
            "Os animais que são criados pelo homem são chamados animais domésticos:\n",
            "Os animais domésticos precisam de cuidados especiais para ter saúde e não transmitir doenças.\n",
            "﻿\n",
            "Tiradentes, cujo nome era Joaquim José da Silva Xavier, queria separar o Brasil de Portugal.\n",
            "Como castigo, seus companheiros foram presos e Tiradentes foi enforcado.\n"
          ],
          "name": "stdout"
        }
      ]
    },
    {
      "cell_type": "markdown",
      "metadata": {
        "id": "YL7QgDTx4B-Z",
        "colab_type": "text"
      },
      "source": [
        "## Join Corpus"
      ]
    },
    {
      "cell_type": "code",
      "metadata": {
        "id": "9PufRe-csonk",
        "colab_type": "code",
        "colab": {
          "base_uri": "https://localhost:8080/",
          "height": 68
        },
        "outputId": "d134458c-6217-4863-e76a-9e85a851c096"
      },
      "source": [
        "train_corpus = floresta_data + br_liteture + corpusTCC_data + \\\n",
        "               folha_data + publico_data\n",
        "vocab = list(set(floresta_vocab + br_liteture_vocab + corpusTCC_vocab + \\\n",
        "                 folha_vocab + publico_vocab))\n",
        "\n",
        "test_corpus = nilc_corpus\n",
        "\n",
        "print('Número de sentenças em train_corpus:', len(train_corpus))\n",
        "print('tamanho do vocab de train_corpus:', len(vocab))\n",
        "print('Número de sentenças em test_corpus:', len(test_corpus))"
      ],
      "execution_count": 9,
      "outputs": [
        {
          "output_type": "stream",
          "text": [
            "Número de sentenças em train_corpus: 2976964\n",
            "tamanho do vocab de train_corpus: 2017559\n",
            "Número de sentenças em test_corpus: 181\n"
          ],
          "name": "stdout"
        }
      ]
    },
    {
      "cell_type": "markdown",
      "metadata": {
        "id": "C788UGA860CW",
        "colab_type": "text"
      },
      "source": [
        "## Olhando o Vocab"
      ]
    },
    {
      "cell_type": "code",
      "metadata": {
        "id": "3ZAgkV8U5xGQ",
        "colab_type": "code",
        "colab": {}
      },
      "source": [
        "# ime vocab https://www.ime.usp.br/~pf/dicios/index.html\n",
        "# 200296 palavras\n",
        "ime_words_path = \"/content/drive/My Drive/PF-Correcao/br-utf8.txt\"\n",
        "with open(ime_words_path) as file: # Use file to refer to the file object\n",
        "   ime_vocab = file.read().splitlines()"
      ],
      "execution_count": 10,
      "outputs": []
    },
    {
      "cell_type": "code",
      "metadata": {
        "id": "z2Rwdufp55oP",
        "colab_type": "code",
        "colab": {
          "base_uri": "https://localhost:8080/",
          "height": 34
        },
        "outputId": "d07c9ceb-cdaa-4a6a-9381-8aa689974c55"
      },
      "source": [
        "prob_wrong = [word for word in vocab[:1000] if word not in ime_vocab]\n",
        "print(len(prob_wrong))"
      ],
      "execution_count": 11,
      "outputs": [
        {
          "output_type": "stream",
          "text": [
            "950\n"
          ],
          "name": "stdout"
        }
      ]
    },
    {
      "cell_type": "code",
      "metadata": {
        "id": "yGeDZw277TTl",
        "colab_type": "code",
        "colab": {
          "base_uri": "https://localhost:8080/",
          "height": 867
        },
        "outputId": "661c139b-4ea5-41fe-a1a5-838cf6854c62"
      },
      "source": [
        "prob_wrong[:50]"
      ],
      "execution_count": 12,
      "outputs": [
        {
          "output_type": "execute_result",
          "data": {
            "text/plain": [
              "['grega).',\n",
              " \"Poppins',\",\n",
              " 'RDP»,',\n",
              " 'penaliza-me',\n",
              " '11/9)',\n",
              " 'kings\"',\n",
              " 'Twenty-fifth',\n",
              " 'Marcou-me',\n",
              " 'l\\'Editoria\",',\n",
              " '«Ficas-te',\n",
              " 'Furnas.',\n",
              " 'Ion,',\n",
              " 'impossible',\n",
              " 'alívio.\"',\n",
              " '«variando',\n",
              " 'motocultivadora!',\n",
              " 'obrigados».',\n",
              " 'centralista.',\n",
              " 'volve,',\n",
              " '«Moçambiquero-te».',\n",
              " '\"debaclê\"',\n",
              " 'Corrido,',\n",
              " 'Jankélévitch',\n",
              " 'sonora\",',\n",
              " '«Jumpers»,',\n",
              " 'Cay.',\n",
              " '65-57,',\n",
              " 'Chaves-Académica',\n",
              " 'carimbador',\n",
              " 'substituídas,',\n",
              " '(\"Aristogatas\",',\n",
              " '«sendo,',\n",
              " 'UNREO',\n",
              " 'Keneally).',\n",
              " 'gradual»,',\n",
              " 'consturado',\n",
              " '«Paz,',\n",
              " 'Dryzun',\n",
              " 'sentindo\"',\n",
              " '(MRND)',\n",
              " 'editais.\"',\n",
              " '«arrogar-se',\n",
              " 'Yangtze.',\n",
              " 'factos\"],',\n",
              " 'Uberaba',\n",
              " 'artística_,',\n",
              " 'Futebol).',\n",
              " '(eliminatória)',\n",
              " \"Citizen's\",\n",
              " 'Giro,']"
            ]
          },
          "metadata": {
            "tags": []
          },
          "execution_count": 12
        }
      ]
    },
    {
      "cell_type": "markdown",
      "metadata": {
        "id": "WFN37T9w9C_U",
        "colab_type": "text"
      },
      "source": [
        "## Olhando o Tokenizer"
      ]
    },
    {
      "cell_type": "code",
      "metadata": {
        "id": "eR0QpFlM8XXX",
        "colab_type": "code",
        "colab": {}
      },
      "source": [
        "try:\n",
        "    from transformers import BertTokenizer, BertForMaskedLM\n",
        "except:\n",
        "    !pip3 install -q transformers\n",
        "    from transformers import BertTokenizer, BertForMaskedLM"
      ],
      "execution_count": 6,
      "outputs": []
    },
    {
      "cell_type": "code",
      "metadata": {
        "id": "983pIbGw9awV",
        "colab_type": "code",
        "colab": {
          "base_uri": "https://localhost:8080/",
          "height": 573,
          "referenced_widgets": [
            "7bd325059c464311a900e91c0034a32e",
            "85cd019396914c27aff9ddacd5f15a1f",
            "12b65c5f5f014a3bb0397351a795deba",
            "438a33fcc62049ec84d9400983cb5fad",
            "9a97783779424a348dcbb776919c2b73",
            "89a25c9422134d5b8f23fbaba540d808",
            "69234f7a3d9046fca77a6abb1ef10132",
            "e649eb55e50b4cf89891f980d9846224",
            "35f62ab720394fdd9bbb4f10ae97eac5",
            "36f833b7236f4af18d0e26e105e05006",
            "f363c82ac508486a99e264a9797cada7",
            "2f75c694f95a40399b762dd53d53f827",
            "08c14441656d49d18b7ef7f6eb9d02ab",
            "319ffb4ea08846f5a897109b9dd38414",
            "7bc68c8437d2436a9710a24ac885f857",
            "f899c11f12c84455bf51ea2cf67de39c",
            "e914e9371d114ea8a403f8bdcf9851eb",
            "623d88d6668f41f7980e9b3942d9d03a",
            "bb0aae10fb8f4f319656ddc88d2557f0",
            "7b1549fe70164939b8f78a0b9bdba79c",
            "fd6658a31de9404184fceb5b2e62da4c",
            "5fc3c2554beb494d82831e71aa48685e",
            "3b2c37718e3443debad1d37663bff55b",
            "9abb1c41974548729339cc133ec3d66c",
            "d380755ae2ca4557af97236a1ab40260",
            "cda3926c4edd49d69548037f3ff3b7fd",
            "6c8a7139978e4afd95c2ed516a300f37",
            "0982357b3c0349cd80ff027404898159",
            "85bf7970459c4769b655781ee0429005",
            "dfd0500f4a0d4713a244cf5d037b4a99",
            "bff9cd00251a48eca2d76b6ad6374e26",
            "900a537719ef484fb90dbe0616800465"
          ]
        },
        "outputId": "ca3c5bc1-3eaa-455c-89aa-c695778d296c"
      },
      "source": [
        "debug_subset = folha_data[:10]\n",
        "tokenizer = BertTokenizer.from_pretrained(\n",
        "    \"neuralmind/bert-base-portuguese-cased\")\n",
        "\n",
        "for sentence in debug_subset:\n",
        "    print(sentence)\n",
        "    print(tokenizer.tokenize(sentence))"
      ],
      "execution_count": 14,
      "outputs": [
        {
          "output_type": "display_data",
          "data": {
            "application/vnd.jupyter.widget-view+json": {
              "model_id": "7bd325059c464311a900e91c0034a32e",
              "version_minor": 0,
              "version_major": 2
            },
            "text/plain": [
              "HBox(children=(FloatProgress(value=0.0, description='Downloading', max=209528.0, style=ProgressStyle(descripti…"
            ]
          },
          "metadata": {
            "tags": []
          }
        },
        {
          "output_type": "stream",
          "text": [
            "\n"
          ],
          "name": "stdout"
        },
        {
          "output_type": "display_data",
          "data": {
            "application/vnd.jupyter.widget-view+json": {
              "model_id": "35f62ab720394fdd9bbb4f10ae97eac5",
              "version_minor": 0,
              "version_major": 2
            },
            "text/plain": [
              "HBox(children=(FloatProgress(value=0.0, description='Downloading', max=2.0, style=ProgressStyle(description_wi…"
            ]
          },
          "metadata": {
            "tags": []
          }
        },
        {
          "output_type": "stream",
          "text": [
            "\n"
          ],
          "name": "stdout"
        },
        {
          "output_type": "display_data",
          "data": {
            "application/vnd.jupyter.widget-view+json": {
              "model_id": "e914e9371d114ea8a403f8bdcf9851eb",
              "version_minor": 0,
              "version_major": 2
            },
            "text/plain": [
              "HBox(children=(FloatProgress(value=0.0, description='Downloading', max=112.0, style=ProgressStyle(description_…"
            ]
          },
          "metadata": {
            "tags": []
          }
        },
        {
          "output_type": "stream",
          "text": [
            "\n"
          ],
          "name": "stdout"
        },
        {
          "output_type": "display_data",
          "data": {
            "application/vnd.jupyter.widget-view+json": {
              "model_id": "d380755ae2ca4557af97236a1ab40260",
              "version_minor": 0,
              "version_major": 2
            },
            "text/plain": [
              "HBox(children=(FloatProgress(value=0.0, description='Downloading', max=43.0, style=ProgressStyle(description_w…"
            ]
          },
          "metadata": {
            "tags": []
          }
        },
        {
          "output_type": "stream",
          "text": [
            "\n",
            "Dois jogos definem hoje os finalistas do Campeonato Brasileiro de futebol deste ano. Em Campinas, o Guarani recebe o Palmeiras às 17h precisando vencer por dois gols.\n",
            "['Dois', 'jogos', 'define', '##m', 'hoje', 'os', 'finalistas', 'do', 'Campeonato', 'Brasileiro', 'de', 'futebol', 'deste', 'ano', '.', 'Em', 'Campinas', ',', 'o', 'Guarani', 'recebe', 'o', 'Palmeiras', 'às', '17', '##h', 'precisa', '##ndo', 'vencer', 'por', 'dois', 'gols', '.']\n",
            "O outro jogo é Corinthians e Atlético-MG. Sua realização no Morumbi só foi definida na noite de anteontem. O clube de São Paulo e a Federação Paulista de Futebol reivindicavam adiar a partida para amanhã, alegando falta de segurança. A CBF confirmou o jogo às 17h. O estádio terá 70% da arquibancada interditada. Esporte\n",
            "['O', 'outro', 'jogo', 'é', 'Corinthians', 'e', 'Atlético', '-', 'MG', '.', 'Sua', 'realização', 'no', 'Mor', '##umbi', 'só', 'foi', 'definida', 'na', 'noite', 'de', 'ante', '##ont', '##em', '.', 'O', 'clube', 'de', 'São', 'Paulo', 'e', 'a', 'Federação', 'Paulista', 'de', 'Futebol', 'reivindic', '##avam', 'adia', '##r', 'a', 'partida', 'para', 'aman', '##hã', ',', 'alegando', 'falta', 'de', 'segurança', '.', 'A', 'CBF', 'confirmou', 'o', 'jogo', 'às', '17', '##h', '.', 'O', 'estádio', 'terá', '70', '%', 'da', 'arquibanc', '##ada', 'inter', '##dita', '##da', '.', 'Esporte']\n",
            "Embora ainda sem confirmações ou anúncios oficiais, vão surgindo nomes que deverão compor o gabinete de Fernando Henrique Cardoso. O elenco que se desenha, com base no que parece ser uma combinação de critérios técnicos e políticos, é no geral respeitável.\n",
            "['Embora', 'ainda', 'sem', 'confirma', '##ções', 'ou', 'anúncios', 'oficiais', ',', 'vão', 'surgindo', 'nomes', 'que', 'dever', '##ão', 'compor', 'o', 'gabinete', 'de', 'Fernando', 'Henrique', 'Cardoso', '.', 'O', 'elenco', 'que', 'se', 'desenh', '##a', ',', 'com', 'base', 'no', 'que', 'parece', 'ser', 'uma', 'combinação', 'de', 'critérios', 'técnicos', 'e', 'políticos', ',', 'é', 'no', 'geral', 'respei', '##tável', '.']\n",
            "A escolha do titular da Fazenda, Pedro Malan, trouxe tranquilidade à economia. Um dos arquitetos do Real, de estilo sóbrio e diplomático, Malan acena com a preservação do plano, sem sobressaltos ou prestidigitações. O mesmo ocorre com as escolhas de Pérsio Arida e de Edmar Bacha para chefiar, respectivamente, o Banco Central e o BNDES. O nome de Arida já foi mesmo enviado para aprovação pelo Senado.\n",
            "['A', 'escolha', 'do', 'titular', 'da', 'Fazenda', ',', 'Pedro', 'Mala', '##n', ',', 'trouxe', 'tranquil', '##idade', 'à', 'economia', '.', 'Um', 'dos', 'arquitetos', 'do', 'Real', ',', 'de', 'estilo', 'só', '##bri', '##o', 'e', 'diplo', '##mático', ',', 'Mala', '##n', 'ace', '##na', 'com', 'a', 'preservação', 'do', 'plano', ',', 'sem', 'sobre', '##s', '##sal', '##tos', 'ou', 'presti', '##dig', '##itações', '.', 'O', 'mesmo', 'ocorre', 'com', 'as', 'escolhas', 'de', 'Pér', '##si', '##o', 'Ari', '##da', 'e', 'de', 'Ed', '##mar', 'Bach', '##a', 'para', 'chefia', '##r', ',', 'respectivamente', ',', 'o', 'Banco', 'Central', 'e', 'o', 'B', '##N', '##DE', '##S', '.', 'O', 'nome', 'de', 'Ari', '##da', 'já', 'foi', 'mesmo', 'enviado', 'para', 'aprovação', 'pelo', 'Senado', '.']\n",
            "Paulo Renato de Souza foi responsável pelo plano de governo de FHC. Com boa capacidade de articulação entre as áreas técnica e política, pode ir para um Planejamento fortalecido ou outra pasta.\n",
            "['Paulo', 'Renato', 'de', 'Souza', 'foi', 'responsável', 'pelo', 'plano', 'de', 'governo', 'de', 'F', '##HC', '.', 'Com', 'boa', 'capacidade', 'de', 'articulação', 'entre', 'as', 'áreas', 'técnica', 'e', 'política', ',', 'pode', 'ir', 'para', 'um', 'Plane', '##jamento', 'fortale', '##cido', 'ou', 'outra', 'pasta', '.']\n",
            "Quanto à Saúde, a indicação é bem-vinda. Figura de passagem inatacada pela vida pública, o cardiologista Adib Jatene possui uma imagem de lisura e competência técnica. Terá pela frente uma das mais graves crises que a saúde já atravessou no país.\n",
            "['Quanto', 'à', 'Saúde', ',', 'a', 'indicação', 'é', 'bem', '-', 'vinda', '.', 'Figu', '##ra', 'de', 'passagem', 'ina', '##ta', '##cada', 'pela', 'vida', 'pública', ',', 'o', 'card', '##io', '##log', '##ista', 'Ad', '##ib', 'Ja', '##ten', '##e', 'possui', 'uma', 'imagem', 'de', 'lis', '##ura', 'e', 'competência', 'técnica', '.', 'Ter', '##á', 'pela', 'frente', 'uma', 'das', 'mais', 'graves', 'crises', 'que', 'a', 'saúde', 'já', 'atravess', '##ou', 'no', 'país', '.']\n",
            "Também positiva é a possibilidade da escolha do respeitado cientista político Francisco Weffort para o Ministério da Cultura. O fato de o intelectual ser filiado ao PT pode contudo causar marolas internas no partido, que pretende fazer oposição ao próximo governo. À parte o mérito pessoal de Weffort, seu nome pode ainda servir para que FHC dê um matiz um pouco mais \"social\" à imagem do seu ministério.\n",
            "['Também', 'positiva', 'é', 'a', 'possibilidade', 'da', 'escolha', 'do', 'respeita', '##do', 'cientista', 'político', 'Francisco', 'We', '##ff', '##ort', 'para', 'o', 'Ministério', 'da', 'Cultura', '.', 'O', 'fato', 'de', 'o', 'intelectual', 'ser', 'filiado', 'ao', 'PT', 'pode', 'contudo', 'causar', 'mar', '##olas', 'internas', 'no', 'partido', ',', 'que', 'pretende', 'fazer', 'oposição', 'ao', 'próximo', 'governo', '.', 'À', 'parte', 'o', 'mérito', 'pessoal', 'de', 'We', '##ff', '##ort', ',', 'seu', 'nome', 'pode', 'ainda', 'servir', 'para', 'que', 'F', '##HC', 'd', '##ê', 'um', 'mat', '##iz', 'um', 'pouco', 'mais', '\"', 'social', '\"', 'à', 'imagem', 'do', 'seu', 'ministério', '.']\n",
            "Outro nome que surge bem cotado é o de Reinhold Stephanes. Especialista na área de Previdência, conseguiu, como Jatene, emergir de uma participação no então soçobrante governo Collor preservando o respeito de que dispunha e livre de maiores suspeitas e acusações.\n",
            "['Outro', 'nome', 'que', 'surge', 'bem', 'co', '##tado', 'é', 'o', 'de', 'Rei', '##nho', '##ld', 'Steph', '##anes', '.', 'Especial', '##ista', 'na', 'área', 'de', 'Pre', '##vidência', ',', 'conseguiu', ',', 'como', 'Ja', '##ten', '##e', ',', 'emerg', '##ir', 'de', 'uma', 'participação', 'no', 'então', 'so', '##ço', '##bra', '##nte', 'governo', 'Collor', 'preserva', '##ndo', 'o', 'respeito', 'de', 'que', 'dispu', '##nha', 'e', 'livre', 'de', 'maiores', 'suspeitas', 'e', 'acusações', '.']\n",
            "Já a escolha de Sérgio Motta para a pasta das Comunicações destoa das acima mencionadas. Sem experiência específica na área, a confirmação do velho amigo de FHC traria uma incógnita ao ministério.\n",
            "['Já', 'a', 'escolha', 'de', 'Sérgio', 'Motta', 'para', 'a', 'pasta', 'das', 'Comunicações', 'des', '##to', '##a', 'das', 'acima', 'mencionada', '##s', '.', 'Sem', 'experiência', 'específica', 'na', 'área', ',', 'a', 'confirmação', 'do', 'velho', 'amigo', 'de', 'F', '##HC', 'tra', '##ria', 'uma', 'inc', '##óg', '##ni', '##ta', 'ao', 'ministério', '.']\n",
            "Oposto da escolha pessoal das Comunicações, o Ministério dos Transportes pode ir em pagamento pelo apoio de campanha. Fala-se em Raimundo Brito, ex-secretário e indicação direta de ACM, para a suculenta pasta das pontes e estradas.\n",
            "['Op', '##osto', 'da', 'escolha', 'pessoal', 'das', 'Comunicações', ',', 'o', 'Ministério', 'dos', 'Transportes', 'pode', 'ir', 'em', 'pagamento', 'pelo', 'apoio', 'de', 'campanha', '.', 'Fal', '##a', '-', 'se', 'em', 'Raimundo', 'Brito', ',', 'ex', '-', 'secretário', 'e', 'indicação', 'direta', 'de', 'AC', '##M', ',', 'para', 'a', 'su', '##cul', '##enta', 'pasta', 'das', 'pontes', 'e', 'estradas', '.']\n"
          ],
          "name": "stdout"
        }
      ]
    },
    {
      "cell_type": "markdown",
      "metadata": {
        "id": "TD7zyDKkHdDd",
        "colab_type": "text"
      },
      "source": [
        "## Criando Dataset de entrada\n",
        "\n",
        "- dataset 2: 10% de máscaras\n"
      ]
    },
    {
      "cell_type": "code",
      "metadata": {
        "id": "8GRgqaDZH1Hp",
        "colab_type": "code",
        "colab": {}
      },
      "source": [
        "import torch\n",
        "import random\n",
        "\n",
        "seed = 0\n",
        "random.seed(seed)\n",
        "torch.random.manual_seed(seed)\n",
        "torch.cuda.manual_seed(seed)"
      ],
      "execution_count": 2,
      "outputs": []
    },
    {
      "cell_type": "markdown",
      "metadata": {
        "id": "oRhJvfFcHlwT",
        "colab_type": "text"
      },
      "source": [
        "With debug set = corpusTCC_data"
      ]
    },
    {
      "cell_type": "code",
      "metadata": {
        "id": "t2b9Hyn9-Cu0",
        "colab_type": "code",
        "colab": {
          "base_uri": "https://localhost:8080/",
          "height": 34
        },
        "outputId": "e566c48b-7e4d-41d2-e2a0-ad4c3f4faeab"
      },
      "source": [
        "from torch.utils.data import Dataset, DataLoader\n",
        "\n",
        "db_data = corpusTCC_data\n",
        "random.shuffle(db_data)\n",
        "train_size = int(0.8 * len(db_data))\n",
        "db_train = db_data[:train_size]\n",
        "db_valid = db_data[train_size:]\n",
        "print(len(db_data), len(db_train), len(db_valid))"
      ],
      "execution_count": 3,
      "outputs": [
        {
          "output_type": "stream",
          "text": [
            "732 585 147\n"
          ],
          "name": "stdout"
        }
      ]
    },
    {
      "cell_type": "markdown",
      "metadata": {
        "id": "upTZOiFRJ7yY",
        "colab_type": "text"
      },
      "source": [
        "### Dataset com máscaras"
      ]
    },
    {
      "cell_type": "code",
      "metadata": {
        "id": "bmzlPO8MJ4mO",
        "colab_type": "code",
        "colab": {}
      },
      "source": [
        "import math\n",
        "class MaskedDataset(Dataset):\n",
        "    def __init__(self, texts, seq_len, mask_perc=0.1):\n",
        "        super().__init__()\n",
        "\n",
        "        self.texts = texts\n",
        "        self.seq_len = seq_len\n",
        "        self.mask_perc = mask_perc\n",
        "        self.tokenizer = BertTokenizer.from_pretrained(\n",
        "            \"neuralmind/bert-base-portuguese-cased\")\n",
        "    \n",
        "    def __len__(self):\n",
        "        return len(self.texts)\n",
        "    \n",
        "    def __getitem__(self, idx):\n",
        "        text = self.texts[idx]\n",
        "        masked_text, mask_idxs = self.masking(text)\n",
        "        encoded = self.tokenize(masked_text)\n",
        "        labels_id = self.tokenize(text)\n",
        "        return masked_text, encoded['input_ids'].squeeze(), \\\n",
        "               encoded['attention_mask'].squeeze(), mask_idxs, \\\n",
        "               text, labels_id['input_ids'].squeeze(), \\\n",
        "               labels_id['attention_mask'].squeeze() \n",
        "\n",
        "    def tokenize(self, text):\n",
        "        return self.tokenizer.encode_plus(text=text,\n",
        "                                          max_length=self.seq_len,\n",
        "                                          pad_to_max_length=True,\n",
        "                                          return_tensors='pt')\n",
        "    def masking(self, text):\n",
        "        words = text.split()\n",
        "        n_words = len(words)\n",
        "        if n_words >= self.seq_len:\n",
        "            n_words = self.seq_len\n",
        "        n_masks = int(math.ceil(self.mask_perc*n_words))\n",
        "        masks_idxs = sorted(random.sample(range(0, n_words), n_masks))\n",
        "        for idx in masks_idxs:\n",
        "            words[idx] = self.tokenizer.mask_token\n",
        "        return ' '.join(words), masks_idxs\n",
        "\n"
      ],
      "execution_count": 4,
      "outputs": []
    },
    {
      "cell_type": "code",
      "metadata": {
        "id": "akFP2aM5KcPg",
        "colab_type": "code",
        "colab": {
          "base_uri": "https://localhost:8080/",
          "height": 255
        },
        "outputId": "16a99649-d38d-43a4-e25f-053b12a94f15"
      },
      "source": [
        "test = MaskedDataset(['Eu gosto de pizza'], 9)\n",
        "input_text, input_id, attention_mask, masked_words_pos, label, label_id, \\\n",
        "    label_att_mask = test[0]\n",
        "\n",
        "print('Entrada')\n",
        "print(input_text)\n",
        "print('Label')\n",
        "print(label)\n",
        "print('Masked word:')\n",
        "print([label.split()[pos] for pos in masked_words_pos])\n",
        "\n",
        "print('Entrada ids')\n",
        "print(input_id)\n",
        "print('Label ids')\n",
        "print(label_id)\n",
        "\n",
        "print('Entrada mascara de atenção')\n",
        "print(attention_mask)\n",
        "print('Label mascara de atenção')\n",
        "print(label_att_mask)"
      ],
      "execution_count": 18,
      "outputs": [
        {
          "output_type": "stream",
          "text": [
            "Entrada\n",
            "[MASK] gosto de pizza\n",
            "Label\n",
            "Eu gosto de pizza\n",
            "Masked word:\n",
            "['Eu']\n",
            "Entrada ids\n",
            "tensor([  101,   103, 10303,   125, 13779, 15616,   102,     0,     0])\n",
            "Label ids\n",
            "tensor([  101,  3396, 10303,   125, 13779, 15616,   102,     0,     0])\n",
            "Entrada mascara de atenção\n",
            "tensor([1, 1, 1, 1, 1, 1, 1, 0, 0])\n",
            "Label mascara de atenção\n",
            "tensor([1, 1, 1, 1, 1, 1, 1, 0, 0])\n"
          ],
          "name": "stdout"
        }
      ]
    },
    {
      "cell_type": "code",
      "metadata": {
        "id": "Hrj7ckrjR2xC",
        "colab_type": "code",
        "colab": {
          "base_uri": "https://localhost:8080/",
          "height": 1000
        },
        "outputId": "6f1ed59e-f216-49a5-8e2f-9b3747ce1f79"
      },
      "source": [
        "test = MaskedDataset(db_train, 200)\n",
        "input_text, input_id, attention_mask, masked_words_pos, label, label_id, \\\n",
        "    label_att_mask = test[0]\n",
        "\n",
        "print('Entrada')\n",
        "print(input_text)\n",
        "print('Label')\n",
        "print(label)\n",
        "print('Masked word:')\n",
        "print([label.split()[pos] for pos in masked_words_pos])\n",
        "\n",
        "print('Entrada ids')\n",
        "print(input_id)\n",
        "print('Label ids')\n",
        "print(label_id)\n",
        "\n",
        "print('Entrada mascara de atenção')\n",
        "print(attention_mask)\n",
        "print('Label mascara de atenção')\n",
        "print(label_att_mask)"
      ],
      "execution_count": 19,
      "outputs": [
        {
          "output_type": "stream",
          "text": [
            "Entrada\n",
            "[MASK] aplicações em sistemas hipermídia abertos como [MASK] de software, segundo os princípios da engenharia de software, demandam modelos que sintetizem e suportem a [MASK] de [MASK] desenvolvimento. Com a popularidade [MASK] WEB e o aumento da demanda pela utilização de aplicações hipermídia que se integrem de [MASK] natural a diferentes ambientes, nota-se a necessidade de [MASK] voltados à especificação dessas aplicações fornecendo suporte, principalmente, a interoperabilidade.\n",
            "Label\n",
            "As aplicações em sistemas hipermídia abertos como produtos de software, segundo os princípios da engenharia de software, demandam modelos que sintetizem e suportem a automatização de seu desenvolvimento. Com a popularidade da WEB e o aumento da demanda pela utilização de aplicações hipermídia que se integrem de forma natural a diferentes ambientes, nota-se a necessidade de modelos voltados à especificação dessas aplicações fornecendo suporte, principalmente, a interoperabilidade.\n",
            "Masked word:\n",
            "['As', 'produtos', 'automatização', 'seu', 'da', 'forma', 'modelos']\n",
            "Entrada ids\n",
            "tensor([  101,   103,  7742,   173,  3184, 10024, 22287,  4683, 13059,   271,\n",
            "          103,   125,  6545,   117,   995,   259,  5930,   180,  7504,   125,\n",
            "         6545,   117,  8603, 22287,  4585,   179, 15145,   210,   122,  6405,\n",
            "        22287,   123,   103,   125,   103,  1756,   119,   761,   123,  6698,\n",
            "          103,   448, 19591,   122,   146,  3536,   180,  8603,   412,  5353,\n",
            "          125,  7742, 10024, 22287,  4683,   179,   176,   627,   846, 22287,\n",
            "          125,   103,  2711,   123,  1755,  9435,   117,  4428,   118,   176,\n",
            "          123,  4096,   125,   103, 21891,   353, 17117,   182,  4756,  7742,\n",
            "        19351,  6405,   117,  1953,   117,   123,   558,  4149,   371,  1758,\n",
            "          119,   102,     0,     0,     0,     0,     0,     0,     0,     0,\n",
            "            0,     0,     0,     0,     0,     0,     0,     0,     0,     0,\n",
            "            0,     0,     0,     0,     0,     0,     0,     0,     0,     0,\n",
            "            0,     0,     0,     0,     0,     0,     0,     0,     0,     0,\n",
            "            0,     0,     0,     0,     0,     0,     0,     0,     0,     0,\n",
            "            0,     0,     0,     0,     0,     0,     0,     0,     0,     0,\n",
            "            0,     0,     0,     0,     0,     0,     0,     0,     0,     0,\n",
            "            0,     0,     0,     0,     0,     0,     0,     0,     0,     0,\n",
            "            0,     0,     0,     0,     0,     0,     0,     0,     0,     0,\n",
            "            0,     0,     0,     0,     0,     0,     0,     0,     0,     0,\n",
            "            0,     0,     0,     0,     0,     0,     0,     0,     0,     0])\n",
            "Label ids\n",
            "tensor([  101,   510,  7742,   173,  3184, 10024, 22287,  4683, 13059,   271,\n",
            "         3169,   125,  6545,   117,   995,   259,  5930,   180,  7504,   125,\n",
            "         6545,   117,  8603, 22287,  4585,   179, 15145,   210,   122,  6405,\n",
            "        22287,   123,  9577,  6983,   125,   347,  1756,   119,   761,   123,\n",
            "         6698,   180,   448, 19591,   122,   146,  3536,   180,  8603,   412,\n",
            "         5353,   125,  7742, 10024, 22287,  4683,   179,   176,   627,   846,\n",
            "        22287,   125,   547,  2711,   123,  1755,  9435,   117,  4428,   118,\n",
            "          176,   123,  4096,   125,  4585, 21891,   353, 17117,   182,  4756,\n",
            "         7742, 19351,  6405,   117,  1953,   117,   123,   558,  4149,   371,\n",
            "         1758,   119,   102,     0,     0,     0,     0,     0,     0,     0,\n",
            "            0,     0,     0,     0,     0,     0,     0,     0,     0,     0,\n",
            "            0,     0,     0,     0,     0,     0,     0,     0,     0,     0,\n",
            "            0,     0,     0,     0,     0,     0,     0,     0,     0,     0,\n",
            "            0,     0,     0,     0,     0,     0,     0,     0,     0,     0,\n",
            "            0,     0,     0,     0,     0,     0,     0,     0,     0,     0,\n",
            "            0,     0,     0,     0,     0,     0,     0,     0,     0,     0,\n",
            "            0,     0,     0,     0,     0,     0,     0,     0,     0,     0,\n",
            "            0,     0,     0,     0,     0,     0,     0,     0,     0,     0,\n",
            "            0,     0,     0,     0,     0,     0,     0,     0,     0,     0,\n",
            "            0,     0,     0,     0,     0,     0,     0,     0,     0,     0])\n",
            "Entrada mascara de atenção\n",
            "tensor([1, 1, 1, 1, 1, 1, 1, 1, 1, 1, 1, 1, 1, 1, 1, 1, 1, 1, 1, 1, 1, 1, 1, 1,\n",
            "        1, 1, 1, 1, 1, 1, 1, 1, 1, 1, 1, 1, 1, 1, 1, 1, 1, 1, 1, 1, 1, 1, 1, 1,\n",
            "        1, 1, 1, 1, 1, 1, 1, 1, 1, 1, 1, 1, 1, 1, 1, 1, 1, 1, 1, 1, 1, 1, 1, 1,\n",
            "        1, 1, 1, 1, 1, 1, 1, 1, 1, 1, 1, 1, 1, 1, 1, 1, 1, 1, 1, 1, 0, 0, 0, 0,\n",
            "        0, 0, 0, 0, 0, 0, 0, 0, 0, 0, 0, 0, 0, 0, 0, 0, 0, 0, 0, 0, 0, 0, 0, 0,\n",
            "        0, 0, 0, 0, 0, 0, 0, 0, 0, 0, 0, 0, 0, 0, 0, 0, 0, 0, 0, 0, 0, 0, 0, 0,\n",
            "        0, 0, 0, 0, 0, 0, 0, 0, 0, 0, 0, 0, 0, 0, 0, 0, 0, 0, 0, 0, 0, 0, 0, 0,\n",
            "        0, 0, 0, 0, 0, 0, 0, 0, 0, 0, 0, 0, 0, 0, 0, 0, 0, 0, 0, 0, 0, 0, 0, 0,\n",
            "        0, 0, 0, 0, 0, 0, 0, 0])\n",
            "Label mascara de atenção\n",
            "tensor([1, 1, 1, 1, 1, 1, 1, 1, 1, 1, 1, 1, 1, 1, 1, 1, 1, 1, 1, 1, 1, 1, 1, 1,\n",
            "        1, 1, 1, 1, 1, 1, 1, 1, 1, 1, 1, 1, 1, 1, 1, 1, 1, 1, 1, 1, 1, 1, 1, 1,\n",
            "        1, 1, 1, 1, 1, 1, 1, 1, 1, 1, 1, 1, 1, 1, 1, 1, 1, 1, 1, 1, 1, 1, 1, 1,\n",
            "        1, 1, 1, 1, 1, 1, 1, 1, 1, 1, 1, 1, 1, 1, 1, 1, 1, 1, 1, 1, 1, 0, 0, 0,\n",
            "        0, 0, 0, 0, 0, 0, 0, 0, 0, 0, 0, 0, 0, 0, 0, 0, 0, 0, 0, 0, 0, 0, 0, 0,\n",
            "        0, 0, 0, 0, 0, 0, 0, 0, 0, 0, 0, 0, 0, 0, 0, 0, 0, 0, 0, 0, 0, 0, 0, 0,\n",
            "        0, 0, 0, 0, 0, 0, 0, 0, 0, 0, 0, 0, 0, 0, 0, 0, 0, 0, 0, 0, 0, 0, 0, 0,\n",
            "        0, 0, 0, 0, 0, 0, 0, 0, 0, 0, 0, 0, 0, 0, 0, 0, 0, 0, 0, 0, 0, 0, 0, 0,\n",
            "        0, 0, 0, 0, 0, 0, 0, 0])\n"
          ],
          "name": "stdout"
        }
      ]
    },
    {
      "cell_type": "code",
      "metadata": {
        "id": "1iC-9H7BcIKL",
        "colab_type": "code",
        "colab": {
          "base_uri": "https://localhost:8080/",
          "height": 1000
        },
        "outputId": "e91d93d7-28d5-43f6-9a17-5f08b2362f39"
      },
      "source": [
        "train_dataset = MaskedDataset(db_train, 100)\n",
        "valid_dataset = MaskedDataset(db_valid, 100)\n",
        "\n",
        "train_loader = DataLoader(train_dataset, batch_size=32, \n",
        "                          shuffle=True, num_workers=4)\n",
        "valid_loader = DataLoader(valid_dataset, batch_size=32, \n",
        "                          shuffle=False, num_workers=4)\n",
        "data = next(iter(train_loader))\n",
        "data"
      ],
      "execution_count": 7,
      "outputs": [
        {
          "output_type": "execute_result",
          "data": {
            "text/plain": [
              "[('A flexibilidade e a facilidade [MASK] uso [MASK] [MASK] na Web têm garantido um futuro cada vez mais promissor para a utilização de sistemas de hipertexto. Porém, [MASK] a construção de hiperdocumentos envolve a montagem [MASK] milhares de [MASK] e [MASK] de milhares de links, ela se torna uma atividade que pode gerar muitas informações inconsistentes. Essa [MASK] acrescida dos problemas inerentes à utilização de hipertextos, conhecidos por \"desorientação\" do usuário e \"sobrecarga cognitiva\" durante a navegação pelo hipertexto, faz com [MASK] a manutenção seja uma atividade complexa. Além [MASK] com um volume enorme de informações a serem analisadas, a manutenção se torna uma atividade muitas vezes negligenciada.',\n",
              "  '- A aceitação da computação paralela está intimamente ligada à possibilidade [MASK] portabilidade direta de programas entre [MASK] heterogêneos; neste contexto, [MASK] alguns autores, [MASK] MPI pode tornar-se um padrão de grande importância no futuro da computação, [MASK] a nível acadêmico como comercial; sob esse ponto de vista, é [MASK] estudar o comportamento de algumas de suas implementações;',\n",
              "  'Com o desenvolvimento [MASK] ambiente de hipermídia SASHE em um projeto concluído [MASK] ICMC, e a [MASK] [MASK] primeiros experimentos obtidos com a criação de hiperdocumentos para ensino, pode-se observar que suas características constituem um recurso potencialmente utilizável por outros tipos de aplicação, que não somente [MASK] de ensino. Neste sentido, a [MASK] generalização para [MASK] domínio [MASK] aplicação, o de [MASK] Reversa de Software, foi nossa principal motivação para o início deste trabalho, e foi investigada como contribuição ao projeto anteriormente realizado.',\n",
              "  '[MASK] é possível desenvolver rapidamente um projeto de [MASK] digital [MASK] novas metodologias como linguagens de descrição [MASK] hardware [MASK] ferramentas de síntese lógica e simulação. Utilizando\\xadse os circuitos [MASK] pode\\xadse implementar em campo, sem necessidade de processos de fabricação de chips, um protótipo ou a versão final do projeto desenvolvido.',\n",
              "  'Dessa forma, considerando-se a concentração [MASK] trabalhos relacionados ao desenvolvimento de sistemas hipermídia e as [MASK] observadas nos trabalhos revisados relacionados à definição de requisitos para o desenvolvimento desses sistemas, este trabalho propõe um [MASK] único de requisitos, que possui [MASK] propriedades de ser abrangente e suficientemente completo para auxiliar [MASK] etapa de engenharia de requisitos de um novo sistema ou para permitir a [MASK] [MASK] um sistema já existente. Esse conjunto de requisitos considera tanto as necessidades do contexto educacional quanto [MASK] [MASK] [MASK] aos ambientes de autoria hipermídia, suprindo, portanto, as limitações observadas naqueles trabalhos.',\n",
              "  'Os tutoriais geralmente possuem uma [MASK] seqüencial [MASK] com o programa [MASK] informações sobre um assunto e, em seguida, fazendo [MASK] série de perguntas a respeito. Conforme as respostas dadas às perguntas, o sistema prossegue [MASK] desvia para rever o conteúdo ou proporcionar mais informação. Eles incorporam uma ou mais estratégias pedagógicas para efetuar um controle, [MASK] sistema, através [MASK] interação com o aprendiz [MASK] a perguntas, por exemplo). Por causa da [MASK] capacidade de transmitir informações de modo [MASK] organizado, os tutoriais são utilizados para instrução e treinamento. Entretanto, eles possuem diálogo limitado, pois estão presos à sua estrutura rígida de interação.',\n",
              "  'Muitas vezes, algumas características necessárias para uma aplicação, como boa precisão [MASK] [MASK] (acurácia), ficam limitadas por restrições de custo ou [MASK] dos sensores.',\n",
              "  'A ferramenta tutorial, [MASK] não desenvolvida, será [MASK] de guiar o usuário através dos passos de uma tarefa, como por exemplo, a escolha [MASK] melhor expressão para escrever o [MASK] de um determinado artigo, dado um contexto específico. O modelo desta ferramenta segue os tutoriais de utilização de processadores de [MASK] planilhas e softwares de apresentação, [MASK] [MASK] que guiam o usuário através da funcionalidade do [MASK] dando exemplos e permitindo algum treinamento para as funções.',\n",
              "  'Numa outra linha [MASK] pesquisa, sob uma visão conexionista, estão surgindo [MASK] aplicações nesse campo. As Redes Neurais Artificiais têm se destacado com grande eficiência na resolução de problemas de Lingüística, em casos como reconhecimento [MASK] [MASK] problemas de ambigüidade, classificação de sentenças, etiquetagem sintática [MASK] [MASK] classe sintática às palavras individuais).',\n",
              "  'As aplicações em sistemas hipermídia abertos como produtos de [MASK] segundo os princípios da engenharia de software, demandam modelos que sintetizem e suportem a automatização de seu desenvolvimento. Com a popularidade da WEB e [MASK] aumento da [MASK] pela [MASK] de aplicações hipermídia que se integrem de forma natural a diferentes ambientes, nota-se [MASK] necessidade de modelos voltados à especificação dessas [MASK] fornecendo suporte, principalmente, [MASK] interoperabilidade.',\n",
              "  'Uma solução intuitiva para esse problema pode ser encontrada [MASK] [MASK] [MASK] Xexéo, onde o professor, além de fornecer suporte tecnológico, fornece endereços iniciais de [MASK] e verifica se as informações consultadas pelos aprendizes são compatíveis com [MASK] objetivos de ensino almejados.',\n",
              "  'Dentre os ambientes de programação [MASK] troca de [MASK] destacam-se as plataformas de portabilidade, (destinados a possibilitar o transporte de programas paralelos entre plataformas computacionais distintas) das quais dois representantes [MASK] destaque no cenário computacional atual: o [MASK] e [MASK] PVM.',\n",
              "  'O projeto SIATE é constituído de dois subprojetos. O primeiro deles corresponde ao projeto e [MASK] de um Sistema Tutor que auxiliará o estudante, enquanto ele estiver [MASK] em um [MASK] através da disponibilização de informações sobre um domínio [MASK] e também, ao desenvolvimento dos recursos hipermídia disponíveis no ambiente SIATE. O [MASK] subprojeto corresponde ao [MASK] e desenvolvimento de um Sistema Híbrido de [MASK] sobre o mesmo domínio, que servirá como fonte de informação [MASK] [MASK] que o acionará quando necessitarem de informações especialistas para solucionarem algum tipo de problema. Este último subprojeto é [MASK] por outro trabalho de mestrado.',\n",
              "  'Usando o MRO, será definida toda a parte de esquema [MASK] banco de dados para inclusão [MASK] [MASK] Neste modelo é feita a especificação de colônias, [MASK] são conjuntos de objetos de um mesmo tipo; objetos com seus respectivos relacionamentos e [MASK] que podem ser classificados como: sinônimo, comentário, [MASK] procedimento, tempo, estrutura de dados, gráfico, imagens, áudio e visualização.',\n",
              "  'Quando [MASK] sua criação, a Web demandava uma linguagem simples e pequena para especificar a [MASK] e a apresentação de documentos estáticos, igualmente simples. Dessa forma, muito [MASK] recursos associados à utilização de SGML não eram necessários. Definida como [MASK] aplicação de SGML, HTML (Hypertext [MASK] Language) é uma linguagem que fez sucesso por sua [MASK] Entretanto, uma única linguagem [MASK] consegue suportar de modo satisfatório as inúmeras aplicações existentes hoje [MASK] Web. Assim, ênfase tem sido dada à definição de padrões, [MASK] e formatos para a [MASK] manipulação e intercâmbio de hiperdocumentos estruturados suportados por sistemas hipermídia.',\n",
              "  'No entanto, também podemos [MASK] [MASK] problemas na utilização de [MASK] hipermídia. Muitos [MASK] já trataram sobre a superexposição de informações [MASK] usuário e a passagem do controle [MASK] seqüência do aprendizado do autor para [MASK] estudante. Logo, a flexibilidade oferecida [MASK] levar o usuário [MASK] se [MASK] no hiperdocumento como também dificultar o encontro das informações desejadas. Experiências reais com alunos têm mostrado que, na instrução baseada em hipertextos, alguns alunos encontraram dificuldades em ter que tomar muitas decisões e de saber navegar dentro de suas lições, fazendo com que se sintam desorientados.',\n",
              "  '[MASK] autores têm explorado o uso do critério Análise de Mutantes no teste e validação de protocolos, fundamentalmente baseados em um [MASK] de erros - um conjunto restrito e preestabelecido de [MASK] Observa-se a relação com a hipótese do Programador Competente em nível de programa, na qual apóia-se [MASK] critério Análise de Mutantes. No [MASK] de Fabbri, [MASK] a adequação do uso do [MASK] de mutação, especificamente do [MASK] Análise de Mutantes, no contexto de [MASK] e validação de aspectos comportamentais de Sistemas Reativos, considerando-se as técnicas baseadas em modelos de máquinas de transição de [MASK] Máquinas de Estados Finitos; Statecharts e Redes de Petri, originando diversos trabalhos. O critério Análise de Mutantes e critérios variantes, denominados Mutação Restrita e Mutação Aleatória, também foram definidos por Fabbri, assim como os operadores de mutação para as técnicas MEFs, Statecharts e Redes de Petri. Nessa mesma linha, Souza et al têm investigado a aplicação da Análise de Mutantes no contexto de especificações Estelle.',\n",
              "  'A representação de grandes dicionários de língua natural, principalmente [MASK] [MASK] em que se [MASK] com [MASK] milhões [MASK] dezenas de milhões) de palavras, é um interessante problema computacional [MASK] ser tratado dentro da área de [MASK] de Língua Natural [MASK] Autômatos finitos (AFs), largamente usados na construção de compiladores, são excelentes estruturas para representação desses dicionários, permitindo acesso direto aos às palavras e seus possíveis atributos (gênero, número, grau, etc).',\n",
              "  'A produção de material didático multimídia em ambiente WWW envolve fatores como o [MASK] a editoração e a [MASK] desse material. A questão [MASK] armazenamento de dados multimídia em ambientes [MASK] é um ponto chave, uma vez que [MASK] [MASK] do material desejado deve ser gerenciado de forma eficiente para evitar sobrecarga do sistema devido ao grande volume de dados e ao eventual grande [MASK] de usuários realizando acessos os dados. A utilização de servidores de dados multimídia baseados em sistemas VOD (Video\\xadOn\\xadDemand) é uma alternativa [MASK] se alcançar [MASK] eficiência exigida. Esses servidores realizam o armazenamento de [MASK] como áudio, vídeo e gráficos (entre outros) em algum tipo de dispositivo físico (disco, fita, etc.). O armazenamento pode ser realizado com a ajuda de técnicas como RAID (Redundant Array of Inexpensive Disks), armazenamento hierárquico ou armazenamento terciário para aumentar a eficiência na gravação e na entrega dos dados.',\n",
              "  '[MASK] [MASK] empíricos e teóricos são fundamentais para avaliar o [MASK] de aplicação e a eficácia em revelar [MASK] permitindo também demonstrar as características importantes e aspectos complementares entre as técnicas de teste;',\n",
              "  'Atualmente, as aplicações comerciais caracterizam-se pela manipulação de [MASK] que podem ser organizados em um conjunto relativamente pequeno de estruturas, mas por outro lado, com um [MASK] volume de dados estruturalmente idênticos. [MASK] entanto, as aplicações não comerciais de sistemas de computação trabalham com dados que não apresentam esta mesma estrutura homogênea. Exemplo dessas aplicações são os sistemas CAD (Computer-Aided [MASK] \\x96 Projeto Auxiliado por Computador), CAM [MASK] Manufacturing \\x96 Manufatura Auxiliada por [MASK] Sistema de [MASK] de Escritórios, entre outros. As [MASK] não convencionais, em geral aproveitam os SGBDs já existentes, mesmo que [MASK] não sejam adequados para [MASK] aplicações. Esse aspecto faz que a falta de um núcleo comum de gerenciamento de dados traga problemas de compatibilidade entre os sistemas. Para sanar os problemas do emprego dos SGBDs disponíveis em aplicações não convencionais, muitas pesquisas estão sendo realizadas, para que novos modelos de dados possam dar o suporte necessário a uma ampla faixa de aplicações não convencionais. Estes modelos têm como objetivos suprir requisitos para a modelagem de sistemas não convencionais.',\n",
              "  '[MASK] a [MASK] de léxicos a partir de corpus de treinamento, a etiquetagem de [MASK] do inglês vem se tornando cada vez mais fácil - cerca de 90% [MASK] precisão geral de [MASK] etiquetador é efeito do simples uso do léxico na etiquetagem (probabilidades léxicas) e, cerca de 50% dos 10% restantes pode ser [MASK] por modelos simples de n-gramas. Mas ainda existem 50% dos 10% restantes que fazem [MASK] que a etiquetagem não seja uma [MASK] trivial. [MASK] 50% são resultado, por exemplo, dos problemas:',\n",
              "  'Com o auxílio de ferramentas de teste como a [MASK] e [MASK] Mothra, que apóiam o critério Análise de Mutantes, da ferramenta [MASK] que apóia o critério Mutação de Interface, e de ferramentas como a Poke\\xadTool, [MASK] [MASK] Asset, que apóiam os critérios Baseados em Fluxo de Dados, vários experimentos [MASK] sido conduzidos. O objetivo [MASK] estudos é [MASK] o desempenho do critério Análise de Mutantes, bem [MASK] verificar qual o seu relacionamento com outros critérios visando ao estabelecimento de uma estratégia de teste de baixo custo e alta [MASK] em revelar a presença de erros.',\n",
              "  'Podem-se agrupar [MASK] critérios de teste em três técnicas: [MASK] Funcional, Técnica Estrutural [MASK] [MASK] Baseada em Erros. Em nível de programa, [MASK] critérios de teste existentes são complementares e devem ser aplicados em conjunto, aumentando dessa maneira a qualidade da atividade de teste. Um dos principais [MASK] da Técnica Baseada em Erros é o critério Análise de [MASK] utilizado no contexto deste trabalho.',\n",
              "  'Após alguns anos [MASK] [MASK] no desenvolvimento [MASK] software, percebeu-se que existem alguns fatores [MASK] qualidade, considerados pelos [MASK] que não estão relacionados especificamente às características de qualidade do produto final. Esses fatores relacionam-se mais ao processo de software, à forma como ele é gerenciado e controlado.',\n",
              "  'A segunda das ferramentas desenvolvidas foi a ferramenta de suporte, um assistente cooperativo responsável pela divisão de [MASK] entre sistema e usuário com cada um sendo [MASK] por uma parte [MASK] problema: o assistente faz o [MASK] máquinas fazem melhor \\x96 indexar e organizar adequadamente uma grande quantidade de [MASK] [MASK] resolveram problemas no passado para [MASK] ao [MASK] da informação mais similar àquela necessária a uma situação atual \\x96 enquanto que o usuário faz o resto. Esta ferramenta [MASK] o conhecimento de estratégias retóricas necessárias para montar um parágrafo, [MASK] coesão e coerência em pequenos pedaços de texto.',\n",
              "  \"[MASK] revisor DTS também é uma ferramenta mais completa de [MASK] abordando quatro classes principais de erros: a revisão ortográfica; a revisão de estrutura, que [MASK] erros como falta de pontuação, uso desbalanceado de delimitadores, uso de palavras [MASK] etc.; [MASK] revisão gramatical que trata, entre outros, de erros de concordância nominal e verbal e [MASK] [MASK] de crase; e a revisão [MASK] estilo, que verifica uso correto de pronome e da partícula 'se' e também de períodos muito longos.\",\n",
              "  '[MASK] comunidade de Tolerância a Defeitos no Brasil tem adotado o termo falha para fault, erro para error e defeito para failure, assim, referindo-se ao termo Fault [MASK] por Injeção de Falhas. Martins salienta que não [MASK] ainda [MASK] consenso quanto à terminologia [MASK] ser utilizada em Português para os [MASK] fault, error e failure. Para manter uma uniformização, adaptam-se os termos utilizados em trabalhos nacionais da área de Tolerância a Defeitos à [MASK] utilizada neste [MASK]',\n",
              "  'Para fornecer comportamento adaptativo a um sistema, um modelo de usuário precisa ser implementado e mantido durante a interação com [MASK] usuário. Ele contem suposições explícitas sobre todos os aspectos do [MASK] que podem ser relevantes para a [MASK] do sistema, como por [MASK] conhecimento necessário para [MASK] no domínio, preferências, interesses [MASK] habilidades.',\n",
              "  'Várias questões pendentes do projeto original são resolvidas, além de se [MASK] uma nova implementação para a semântica de comunicação do [MASK] de Chamadas [MASK]',\n",
              "  'Vários [MASK] formais e [MASK] para modelar o domínio e descrever o projeto, a organização estrutural e a semântica de navegação de [MASK] hipermídia [MASK] sido propostos na literatura, como o RMM - Relationship Management Methodology, o OOHDM - Object Oriented Hypermedia [MASK] Method, o AHM - Amsterdam Hypermedia Model e o EORM - Enhanced [MASK] Model. Entretanto, tais modelos ainda estão no seu início, sendo que muitos deles [MASK] são eficientes e expressivos, [MASK] a sua utilização.',\n",
              "  'O objetivo principal deste mestrado é [MASK] uma arquitetura de agentes que se comunicam através da [MASK] de mensagem com um [MASK] especial [MASK] contém um modelo dinâmico do usuário interagindo com o ambiente.'),\n",
              " tensor([[  101,   177, 10250,  ...,   122,   107,   102],\n",
              "         [  101,   118,   177,  ...,     0,     0,     0],\n",
              "         [  101,   761,   146,  ...,   117,   122,   102],\n",
              "         ...,\n",
              "         [  101, 11533,  5100,  ...,     0,     0,     0],\n",
              "         [  101,  9270,   103,  ...,   117,  2571,   102],\n",
              "         [  101,   231,  2630,  ...,     0,     0,     0]]),\n",
              " tensor([[1, 1, 1,  ..., 1, 1, 1],\n",
              "         [1, 1, 1,  ..., 0, 0, 0],\n",
              "         [1, 1, 1,  ..., 1, 1, 1],\n",
              "         ...,\n",
              "         [1, 1, 1,  ..., 0, 0, 0],\n",
              "         [1, 1, 1,  ..., 1, 1, 1],\n",
              "         [1, 1, 1,  ..., 0, 0, 0]]),\n",
              " [tensor([ 5, 11,  3,  0,  5,  5, 11,  3,  3,  9,  9,  5, 15, 10,  1,  4,  0,  9,\n",
              "          13,  0,  8,  0,  9,  2,  3, 17,  0,  0, 20, 11,  1,  6]),\n",
              "  tensor([ 7, 17, 12,  8, 15,  7, 12,  7, 11, 34, 10,  8, 27, 16, 15,  5, 21, 10,\n",
              "          18,  1, 26,  2, 11,  9,  4, 26, 10, 27, 31, 21,  4, 16]),\n",
              "  tensor([ 8, 21, 16, 10, 34, 11, 21, 23, 35, 37, 11, 30, 30, 17, 27, 10, 31, 14,\n",
              "          23, 10, 32, 14, 22, 13,  7, 30, 25, 36, 38, 24, 22, 21])],\n",
              " ('A flexibilidade e a facilidade de uso de hiperdocumentos na Web têm garantido um futuro cada vez mais promissor para a utilização de sistemas de hipertexto. Porém, quando a construção de hiperdocumentos envolve a montagem de milhares de páginas e centenas de milhares de links, ela se torna uma atividade que pode gerar muitas informações inconsistentes. Essa inconsistência, acrescida dos problemas inerentes à utilização de hipertextos, conhecidos por \"desorientação\" do usuário e \"sobrecarga cognitiva\" durante a navegação pelo hipertexto, faz com que a manutenção seja uma atividade complexa. Além disso, com um volume enorme de informações a serem analisadas, a manutenção se torna uma atividade muitas vezes negligenciada. ',\n",
              "  '- A aceitação da computação paralela está intimamente ligada à possibilidade de portabilidade direta de programas entre sistemas heterogêneos; neste contexto, segundo alguns autores, o MPI pode tornar-se um padrão de grande importância no futuro da computação, tanto a nível acadêmico como comercial; sob esse ponto de vista, é importante estudar o comportamento de algumas de suas implementações; ',\n",
              "  'Com o desenvolvimento do ambiente de hipermídia SASHE em um projeto concluído no ICMC, e a partir dos primeiros experimentos obtidos com a criação de hiperdocumentos para ensino, pode-se observar que suas características constituem um recurso potencialmente utilizável por outros tipos de aplicação, que não somente as de ensino. Neste sentido, a possível generalização para outro domínio de aplicação, o de Engenharia Reversa de Software, foi nossa principal motivação para o início deste trabalho, e foi investigada como contribuição ao projeto anteriormente realizado.',\n",
              "  'Hoje, é possível desenvolver rapidamente um projeto de sistema digital empregando\\xadse novas metodologias como linguagens de descrição de hardware (HDLs), ferramentas de síntese lógica e simulação. Utilizando\\xadse os circuitos reconfiguráveis pode\\xadse implementar em campo, sem necessidade de processos de fabricação de chips, um protótipo ou a versão final do projeto desenvolvido. ',\n",
              "  'Dessa forma, considerando-se a concentração de trabalhos relacionados ao desenvolvimento de sistemas hipermídia e as limitações observadas nos trabalhos revisados relacionados à definição de requisitos para o desenvolvimento desses sistemas, este trabalho propõe um conjunto único de requisitos, que possui as propriedades de ser abrangente e suficientemente completo para auxiliar a etapa de engenharia de requisitos de um novo sistema ou para permitir a avaliação de um sistema já existente. Esse conjunto de requisitos considera tanto as necessidades do contexto educacional quanto as necessidades relacionadas aos ambientes de autoria hipermídia, suprindo, portanto, as limitações observadas naqueles trabalhos.',\n",
              "  'Os tutoriais geralmente possuem uma estrutura seqüencial rígida, com o programa apresentando informações sobre um assunto e, em seguida, fazendo uma série de perguntas a respeito. Conforme as respostas dadas às perguntas, o sistema prossegue ou desvia para rever o conteúdo ou proporcionar mais informação. Eles incorporam uma ou mais estratégias pedagógicas para efetuar um controle, pelo sistema, através da interação com o aprendiz (respostas a perguntas, por exemplo). Por causa da sua capacidade de transmitir informações de modo pedagogicamente organizado, os tutoriais são utilizados para instrução e treinamento. Entretanto, eles possuem diálogo limitado, pois estão presos à sua estrutura rígida de interação.',\n",
              "  'Muitas vezes, algumas características necessárias para uma aplicação, como boa precisão e confiabilidade (acurácia), ficam limitadas por restrições de custo ou complexidade dos sensores. ',\n",
              "  'A ferramenta tutorial, ainda não desenvolvida, será capaz de guiar o usuário através dos passos de uma tarefa, como por exemplo, a escolha da melhor expressão para escrever o propósito de um determinado artigo, dado um contexto específico. O modelo desta ferramenta segue os tutoriais de utilização de processadores de texto, planilhas e softwares de apresentação, por exemplo, que guiam o usuário através da funcionalidade do software dando exemplos e permitindo algum treinamento para as funções.',\n",
              "  'Numa outra linha de pesquisa, sob uma visão conexionista, estão surgindo muitas aplicações nesse campo. As Redes Neurais Artificiais têm se destacado com grande eficiência na resolução de problemas de Lingüística, em casos como reconhecimento de sentenças, problemas de ambigüidade, classificação de sentenças, etiquetagem sintática (atribuição de classe sintática às palavras individuais).',\n",
              "  'As aplicações em sistemas hipermídia abertos como produtos de software, segundo os princípios da engenharia de software, demandam modelos que sintetizem e suportem a automatização de seu desenvolvimento. Com a popularidade da WEB e o aumento da demanda pela utilização de aplicações hipermídia que se integrem de forma natural a diferentes ambientes, nota-se a necessidade de modelos voltados à especificação dessas aplicações fornecendo suporte, principalmente, a interoperabilidade.',\n",
              "  'Uma solução intuitiva para esse problema pode ser encontrada em Costa e Xexéo, onde o professor, além de fornecer suporte tecnológico, fornece endereços iniciais de pesquisa e verifica se as informações consultadas pelos aprendizes são compatíveis com os objetivos de ensino almejados.',\n",
              "  'Dentre os ambientes de programação via troca de mensagens, destacam-se as plataformas de portabilidade, (destinados a possibilitar o transporte de programas paralelos entre plataformas computacionais distintas) das quais dois representantes merecem destaque no cenário computacional atual: o MPI e o PVM. ',\n",
              "  'O projeto SIATE é constituído de dois subprojetos. O primeiro deles corresponde ao projeto e desenvolvimento de um Sistema Tutor que auxiliará o estudante, enquanto ele estiver navegando em um hiperdocumento, através da disponibilização de informações sobre um domínio específico, e também, ao desenvolvimento dos recursos hipermídia disponíveis no ambiente SIATE. O segundo subprojeto corresponde ao projeto e desenvolvimento de um Sistema Híbrido de Conhecimento, sobre o mesmo domínio, que servirá como fonte de informação ao estudante, que o acionará quando necessitarem de informações especialistas para solucionarem algum tipo de problema. Este último subprojeto é desenvolvido por outro trabalho de mestrado.',\n",
              "  'Usando o MRO, será definida toda a parte de esquema do banco de dados para inclusão de som. Neste modelo é feita a especificação de colônias, que são conjuntos de objetos de um mesmo tipo; objetos com seus respectivos relacionamentos e atributos, que podem ser classificados como: sinônimo, comentário, regra, procedimento, tempo, estrutura de dados, gráfico, imagens, áudio e visualização.',\n",
              "  'Quando de sua criação, a Web demandava uma linguagem simples e pequena para especificar a estrutura e a apresentação de documentos estáticos, igualmente simples. Dessa forma, muito dos recursos associados à utilização de SGML não eram necessários. Definida como uma aplicação de SGML, HTML (Hypertext MarkUp Language) é uma linguagem que fez sucesso por sua simplicidade. Entretanto, uma única linguagem não consegue suportar de modo satisfatório as inúmeras aplicações existentes hoje na Web. Assim, ênfase tem sido dada à definição de padrões, recomendações e formatos para a definição, manipulação e intercâmbio de hiperdocumentos estruturados suportados por sistemas hipermídia. ',\n",
              "  'No entanto, também podemos encontrar alguns problemas na utilização de sistemas hipermídia. Muitos artigos já trataram sobre a superexposição de informações ao usuário e a passagem do controle da seqüência do aprendizado do autor para o estudante. Logo, a flexibilidade oferecida pode levar o usuário a se perder no hiperdocumento como também dificultar o encontro das informações desejadas. Experiências reais com alunos têm mostrado que, na instrução baseada em hipertextos, alguns alunos encontraram dificuldades em ter que tomar muitas decisões e de saber navegar dentro de suas lições, fazendo com que se sintam desorientados.',\n",
              "  'Alguns autores têm explorado o uso do critério Análise de Mutantes no teste e validação de protocolos, fundamentalmente baseados em um modelo de erros - um conjunto restrito e preestabelecido de erros. Observa-se a relação com a hipótese do Programador Competente em nível de programa, na qual apóia-se o critério Análise de Mutantes. No trabalho de Fabbri, explorou-se a adequação do uso do conceito de mutação, especificamente do critério Análise de Mutantes, no contexto de teste e validação de aspectos comportamentais de Sistemas Reativos, considerando-se as técnicas baseadas em modelos de máquinas de transição de estados: Máquinas de Estados Finitos; Statecharts e Redes de Petri, originando diversos trabalhos. O critério Análise de Mutantes e critérios variantes, denominados Mutação Restrita e Mutação Aleatória, também foram definidos por Fabbri, assim como os operadores de mutação para as técnicas MEFs, Statecharts e Redes de Petri. Nessa mesma linha, Souza et al têm investigado a aplicação da Análise de Mutantes no contexto de especificações Estelle. ',\n",
              "  'A representação de grandes dicionários de língua natural, principalmente nos casos em que se trabalha com vários milhões (ou dezenas de milhões) de palavras, é um interessante problema computacional a ser tratado dentro da área de Processamento de Língua Natural (PLN). Autômatos finitos (AFs), largamente usados na construção de compiladores, são excelentes estruturas para representação desses dicionários, permitindo acesso direto aos às palavras e seus possíveis atributos (gênero, número, grau, etc).',\n",
              "  'A produção de material didático multimídia em ambiente WWW envolve fatores como o armazenamento, a editoração e a apresentação desse material. A questão do armazenamento de dados multimídia em ambientes WWW é um ponto chave, uma vez que o fornecimento do material desejado deve ser gerenciado de forma eficiente para evitar sobrecarga do sistema devido ao grande volume de dados e ao eventual grande número de usuários realizando acessos os dados. A utilização de servidores de dados multimídia baseados em sistemas VOD (Video\\xadOn\\xadDemand) é uma alternativa para se alcançar a eficiência exigida. Esses servidores realizam o armazenamento de dados como áudio, vídeo e gráficos (entre outros) em algum tipo de dispositivo físico (disco, fita, etc.). O armazenamento pode ser realizado com a ajuda de técnicas como RAID (Redundant Array of Inexpensive Disks), armazenamento hierárquico ou armazenamento terciário para aumentar a eficiência na gravação e na entrega dos dados. ',\n",
              "  '- Estudos empíricos e teóricos são fundamentais para avaliar o custo de aplicação e a eficácia em revelar erros, permitindo também demonstrar as características importantes e aspectos complementares entre as técnicas de teste;',\n",
              "  'Atualmente, as aplicações comerciais caracterizam-se pela manipulação de dados que podem ser organizados em um conjunto relativamente pequeno de estruturas, mas por outro lado, com um grande volume de dados estruturalmente idênticos. No entanto, as aplicações não comerciais de sistemas de computação trabalham com dados que não apresentam esta mesma estrutura homogênea. Exemplo dessas aplicações são os sistemas CAD (Computer-Aided Design \\x96 Projeto Auxiliado por Computador), CAM (Computer-Aided Manufacturing \\x96 Manufatura Auxiliada por Computador), Sistema de Automação de Escritórios, entre outros. As aplicações não convencionais, em geral aproveitam os SGBDs já existentes, mesmo que estes não sejam adequados para estas aplicações. Esse aspecto faz que a falta de um núcleo comum de gerenciamento de dados traga problemas de compatibilidade entre os sistemas. Para sanar os problemas do emprego dos SGBDs disponíveis em aplicações não convencionais, muitas pesquisas estão sendo realizadas, para que novos modelos de dados possam dar o suporte necessário a uma ampla faixa de aplicações não convencionais. Estes modelos têm como objetivos suprir requisitos para a modelagem de sistemas não convencionais. ',\n",
              "  'Com a geração de léxicos a partir de corpus de treinamento, a etiquetagem de textos do inglês vem se tornando cada vez mais fácil - cerca de 90% da precisão geral de um etiquetador é efeito do simples uso do léxico na etiquetagem (probabilidades léxicas) e, cerca de 50% dos 10% restantes pode ser resolvido por modelos simples de n-gramas. Mas ainda existem 50% dos 10% restantes que fazem com que a etiquetagem não seja uma tarefa trivial. Estes 50% são resultado, por exemplo, dos problemas:',\n",
              "  'Com o auxílio de ferramentas de teste como a Proteum e a Mothra, que apóiam o critério Análise de Mutantes, da ferramenta Proteum/IM que apóia o critério Mutação de Interface, e de ferramentas como a Poke\\xadTool, Atac e Asset, que apóiam os critérios Baseados em Fluxo de Dados, vários experimentos têm sido conduzidos. O objetivo desses estudos é medir o desempenho do critério Análise de Mutantes, bem como verificar qual o seu relacionamento com outros critérios visando ao estabelecimento de uma estratégia de teste de baixo custo e alta eficácia em revelar a presença de erros.',\n",
              "  'Podem-se agrupar os critérios de teste em três técnicas: Técnica Funcional, Técnica Estrutural e Técnica Baseada em Erros. Em nível de programa, os critérios de teste existentes são complementares e devem ser aplicados em conjunto, aumentando dessa maneira a qualidade da atividade de teste. Um dos principais critérios da Técnica Baseada em Erros é o critério Análise de Mutantes, utilizado no contexto deste trabalho. ',\n",
              "  'Após alguns anos de experiência no desenvolvimento de software, percebeu-se que existem alguns fatores de qualidade, considerados pelos clientes, que não estão relacionados especificamente às características de qualidade do produto final. Esses fatores relacionam-se mais ao processo de software, à forma como ele é gerenciado e controlado. ',\n",
              "  'A segunda das ferramentas desenvolvidas foi a ferramenta de suporte, um assistente cooperativo responsável pela divisão de trabalho entre sistema e usuário com cada um sendo responsável por uma parte do problema: o assistente faz o que máquinas fazem melhor \\x96 indexar e  organizar adequadamente uma grande quantidade de informações que resolveram problemas no passado para apresentação ao usuário da informação mais similar àquela necessária a uma situação atual \\x96 enquanto que o usuário faz o resto. Esta ferramenta contém o conhecimento de estratégias retóricas necessárias para montar um parágrafo, assegurando coesão e coerência em pequenos pedaços de texto. ',\n",
              "  \"O revisor DTS também é uma ferramenta mais completa de revisão, abordando quatro classes principais de erros: a revisão ortográfica; a revisão de estrutura, que localiza erros como falta de pontuação, uso desbalanceado de delimitadores, uso de palavras repetidas, etc.; a revisão gramatical que trata, entre outros, de erros de concordância nominal e verbal e uso indevido de crase; e a revisão de estilo, que verifica uso correto de pronome e da partícula 'se' e também de períodos muito longos.\",\n",
              "  'A comunidade de Tolerância a Defeitos no Brasil tem adotado o termo falha para fault, erro para error e defeito para failure, assim, referindo-se ao termo Fault Injection por Injeção de Falhas. Martins salienta que não existe ainda um consenso quanto à terminologia a ser utilizada em Português para os termos fault, error e failure. Para manter uma uniformização, adaptam-se os termos utilizados em trabalhos nacionais da área de Tolerância a Defeitos à terminologia utilizada neste trabalho.',\n",
              "  'Para fornecer comportamento adaptativo a um sistema, um modelo de usuário precisa ser implementado e mantido durante a interação com o usuário. Ele contem suposições explícitas sobre todos os aspectos do usuário que podem ser relevantes para a adaptação do sistema, como por exemplo, conhecimento necessário para operar no domínio, preferências, interesses e habilidades.',\n",
              "  'Várias questões pendentes do projeto original são resolvidas, além de se propor uma nova implementação para a semântica de comunicação do núcleo de Chamadas Remotas.',\n",
              "  'Vários modelos formais e métodos para modelar o domínio e descrever o projeto, a organização estrutural e a semântica de navegação de aplicações hipermídia têm sido propostos na literatura, como o RMM - Relationship Management Methodology, o OOHDM - Object Oriented Hypermedia Design Method, o AHM - Amsterdam Hypermedia Model e o EORM - Enhanced Object-Relationship Model. Entretanto, tais modelos ainda estão no seu início, sendo que muitos deles não são eficientes e expressivos, dificultando a sua utilização.',\n",
              "  'O objetivo principal deste mestrado é implementar uma arquitetura de agentes que se comunicam através da troca de mensagem com um agente especial que contém um modelo dinâmico do usuário interagindo com o ambiente.'),\n",
              " tensor([[  101,   177, 10250,  ...,   796,   182,   102],\n",
              "         [  101,   118,   177,  ...,     0,     0,     0],\n",
              "         [  101,   761,   146,  ...,   117,   122,   102],\n",
              "         ...,\n",
              "         [  101, 11533,  5100,  ...,     0,     0,     0],\n",
              "         [  101,  9270,  4585,  ...,  9383,  6563,   102],\n",
              "         [  101,   231,  2630,  ...,     0,     0,     0]]),\n",
              " tensor([[1, 1, 1,  ..., 1, 1, 1],\n",
              "         [1, 1, 1,  ..., 0, 0, 0],\n",
              "         [1, 1, 1,  ..., 1, 1, 1],\n",
              "         ...,\n",
              "         [1, 1, 1,  ..., 0, 0, 0],\n",
              "         [1, 1, 1,  ..., 1, 1, 1],\n",
              "         [1, 1, 1,  ..., 0, 0, 0]])]"
            ]
          },
          "metadata": {
            "tags": []
          },
          "execution_count": 7
        }
      ]
    },
    {
      "cell_type": "markdown",
      "metadata": {
        "id": "Fj4j36QaWql5",
        "colab_type": "text"
      },
      "source": [
        "Modelo"
      ]
    },
    {
      "cell_type": "code",
      "metadata": {
        "id": "yuy3dMq-eXMm",
        "colab_type": "code",
        "colab": {}
      },
      "source": [
        "try:\n",
        "    import pytorch_lightning as pl\n",
        "except:\n",
        "    !pip3 install --quiet pytorch_lightning\n",
        "    import pytorch_lightning as pl\n",
        "\n",
        "from pytorch_lightning.callbacks import ModelCheckpoint\n",
        "from pytorch_lightning.loggers import TensorBoardLogger\n",
        "from pytorch_lightning import Trainer\n",
        "from torch.optim import Adam\n",
        "import torch.nn.functional as F"
      ],
      "execution_count": 8,
      "outputs": []
    },
    {
      "cell_type": "code",
      "metadata": {
        "id": "WLV7-jshXPNA",
        "colab_type": "code",
        "colab": {}
      },
      "source": [
        "import html\n",
        "class MaskedBertFineTune(pl.LightningModule):\n",
        "    def __init__(self, train_loader, valid_loader):\n",
        "        super().__init__()\n",
        "        self.bert = BertForMaskedLM.from_pretrained(\n",
        "            \"neuralmind/bert-base-portuguese-cased\"\n",
        "        )\n",
        "        self.tokenizer = BertTokenizer.from_pretrained(\n",
        "            \"neuralmind/bert-base-portuguese-cased\"\n",
        "        )\n",
        "        self.ext_trainloader = train_loader\n",
        "        self.ext_validloader = valid_loader\n",
        "    \n",
        "    def forward(self, x):\n",
        "        inputs, input_ids, input_mask, masked_idx, \\\n",
        "        targets, target_ids, target_mask = x\n",
        "        outputs = self.bert(input_ids=input_ids.to('cuda'), \n",
        "                            attention_mask=input_mask.to('cuda'),\n",
        "                            masked_lm_labels=target_ids.to('cuda'))\n",
        "        if self.training:\n",
        "            loss, predicted_scores = outputs[:2]\n",
        "            return loss, predicted_scores, inputs, targets\n",
        "        else:\n",
        "            return outputs, inputs, targets\n",
        "\n",
        "        \n",
        "    \n",
        "    def training_step(self, batch, targets):\n",
        "        loss, predicted_scores, inputs, targets = self(batch)\n",
        "\n",
        "        return {\"loss\": loss, \"log\": {\"loss\": loss}}\n",
        "    \n",
        "    def validation_step(self, batch, batch_idx):\n",
        "        outputs, inputs, targets = self(batch)\n",
        "        predicts = [\n",
        "            html.unescape(\n",
        "                self.tokenizer.decode(output_ids,\n",
        "                                      skip_special_tokens=False,\n",
        "                                      clean_up_tokenization_spaces=False)\n",
        "            ) for output_ids in outputs]\n",
        "        return {\"loss\": loss, \"predicts\": predicts, \"inputs\": inputs, \\\n",
        "                \"targets\": targets}\n",
        "    \n",
        "    def training_epoch_end(self, outputs):\n",
        "        avg_loss = torch.stack([x[\"loss\"] for x in outputs]).mean()\n",
        "\n",
        "        return {\"log\": {\"train_loss\": avg_loss}} \n",
        "    \n",
        "    def validation_epoch_end(self, outputs):\n",
        "        avg_loss = torch.stack([x[\"loss\"] for x in outputs]).mean()\n",
        "\n",
        "        origs = sum([list(x[\"inputs\"]) for x in outputs], [])\n",
        "        trues = sum([list(x[\"targets\"]) for x in outputs], [])\n",
        "        preds = sum([list(x[\"predicts\"]) for x in outputs], [])\n",
        "\n",
        "        n = random.choice(range(len(trues)))\n",
        "        print(f\"\\Input: {origs[n]}\\nTarget: {trues[n]}\\nPrediction: {preds[n]}\\n\")\n",
        "\n",
        "        return {\"log\": {\"train_loss\": avg_loss}}\n",
        "    \n",
        "    def train_dataloader(self):\n",
        "        return self.ext_trainloader\n",
        "\n",
        "    def val_dataloader(self):\n",
        "        return self.ext_validloader\n",
        "\n",
        "    def configure_optimizers(self):\n",
        "        return Adam(self.parameters())\n"
      ],
      "execution_count": 29,
      "outputs": []
    },
    {
      "cell_type": "code",
      "metadata": {
        "id": "_VF5PYJxgdhk",
        "colab_type": "code",
        "colab": {
          "base_uri": "https://localhost:8080/",
          "height": 1000,
          "referenced_widgets": [
            "761a665a98084b4c9d1b31dde40557b8",
            "59bc8c2db0f54e3bb1750abdc87e2ae9",
            "b4cb6a5475444d668fd2359f658afbaa",
            "833bc9e649ef4d59a735a5fab3e00ccd",
            "92e7ea022f3344eab9880193f097c208",
            "5e46216ee5df435481076d2543f9150f",
            "4bf1d3b0b9984170b971662083573b6b",
            "5f43de8de3224fe38b42e934010e464b"
          ]
        },
        "outputId": "89ddc739-0ad6-4a3a-f132-a93c55d6e23a"
      },
      "source": [
        "db_model = MaskedBertFineTune(train_loader, valid_loader)\n",
        "experiment_name = 'testingTCC'\n",
        "model_folder = os.path.join('logs', experiment_name)\n",
        "os.makedirs(model_folder, exist_ok=True)\n",
        "ckpt_path = os.path.join(model_folder, \"-{epoch}\")\n",
        "\n",
        "# Callback initialization\n",
        "checkpoint_callback = ModelCheckpoint(prefix=experiment_name, \n",
        "                                      filepath=ckpt_path, \n",
        "                                      mode=\"max\")\n",
        "logger = TensorBoardLogger('logs', experiment_name)\n",
        "# PL Trainer initialization\n",
        "trainer = Trainer(gpus=1,\n",
        "                  checkpoint_callback=checkpoint_callback, \n",
        "                  early_stop_callback=False,\n",
        "                  logger=logger,\n",
        "                  max_epochs=1, \n",
        "                  fast_dev_run=False)\n",
        "trainer.fit(db_model)"
      ],
      "execution_count": 30,
      "outputs": [
        {
          "output_type": "stream",
          "text": [
            "GPU available: True, used: True\n",
            "TPU available: False, using: 0 TPU cores\n",
            "CUDA_VISIBLE_DEVICES: [0]\n",
            "\n",
            "  | Name | Type            | Params\n",
            "-----------------------------------------\n",
            "0 | bert | BertForMaskedLM | 109 M \n"
          ],
          "name": "stderr"
        },
        {
          "output_type": "display_data",
          "data": {
            "application/vnd.jupyter.widget-view+json": {
              "model_id": "761a665a98084b4c9d1b31dde40557b8",
              "version_minor": 0,
              "version_major": 2
            },
            "text/plain": [
              "HBox(children=(FloatProgress(value=1.0, bar_style='info', description='Validation sanity check', layout=Layout…"
            ]
          },
          "metadata": {
            "tags": []
          }
        },
        {
          "output_type": "error",
          "ename": "TypeError",
          "evalue": "ignored",
          "traceback": [
            "\u001b[0;31m---------------------------------------------------------------------------\u001b[0m",
            "\u001b[0;31mTypeError\u001b[0m                                 Traceback (most recent call last)",
            "\u001b[0;32m<ipython-input-30-b28aeb025157>\u001b[0m in \u001b[0;36m<module>\u001b[0;34m()\u001b[0m\n\u001b[1;32m     17\u001b[0m                   \u001b[0mmax_epochs\u001b[0m\u001b[0;34m=\u001b[0m\u001b[0;36m1\u001b[0m\u001b[0;34m,\u001b[0m\u001b[0;34m\u001b[0m\u001b[0;34m\u001b[0m\u001b[0m\n\u001b[1;32m     18\u001b[0m                   fast_dev_run=False)\n\u001b[0;32m---> 19\u001b[0;31m \u001b[0mtrainer\u001b[0m\u001b[0;34m.\u001b[0m\u001b[0mfit\u001b[0m\u001b[0;34m(\u001b[0m\u001b[0mdb_model\u001b[0m\u001b[0;34m)\u001b[0m\u001b[0;34m\u001b[0m\u001b[0;34m\u001b[0m\u001b[0m\n\u001b[0m",
            "\u001b[0;32m/usr/local/lib/python3.6/dist-packages/pytorch_lightning/trainer/trainer.py\u001b[0m in \u001b[0;36mfit\u001b[0;34m(self, model, train_dataloader, val_dataloaders)\u001b[0m\n\u001b[1;32m    916\u001b[0m \u001b[0;34m\u001b[0m\u001b[0m\n\u001b[1;32m    917\u001b[0m         \u001b[0;32melif\u001b[0m \u001b[0mself\u001b[0m\u001b[0;34m.\u001b[0m\u001b[0msingle_gpu\u001b[0m\u001b[0;34m:\u001b[0m\u001b[0;34m\u001b[0m\u001b[0;34m\u001b[0m\u001b[0m\n\u001b[0;32m--> 918\u001b[0;31m             \u001b[0mself\u001b[0m\u001b[0;34m.\u001b[0m\u001b[0msingle_gpu_train\u001b[0m\u001b[0;34m(\u001b[0m\u001b[0mmodel\u001b[0m\u001b[0;34m)\u001b[0m\u001b[0;34m\u001b[0m\u001b[0;34m\u001b[0m\u001b[0m\n\u001b[0m\u001b[1;32m    919\u001b[0m \u001b[0;34m\u001b[0m\u001b[0m\n\u001b[1;32m    920\u001b[0m         \u001b[0;32melif\u001b[0m \u001b[0mself\u001b[0m\u001b[0;34m.\u001b[0m\u001b[0muse_tpu\u001b[0m\u001b[0;34m:\u001b[0m  \u001b[0;31m# pragma: no-cover\u001b[0m\u001b[0;34m\u001b[0m\u001b[0;34m\u001b[0m\u001b[0m\n",
            "\u001b[0;32m/usr/local/lib/python3.6/dist-packages/pytorch_lightning/trainer/distrib_parts.py\u001b[0m in \u001b[0;36msingle_gpu_train\u001b[0;34m(self, model)\u001b[0m\n\u001b[1;32m    174\u001b[0m             \u001b[0mself\u001b[0m\u001b[0;34m.\u001b[0m\u001b[0mreinit_scheduler_properties\u001b[0m\u001b[0;34m(\u001b[0m\u001b[0mself\u001b[0m\u001b[0;34m.\u001b[0m\u001b[0moptimizers\u001b[0m\u001b[0;34m,\u001b[0m \u001b[0mself\u001b[0m\u001b[0;34m.\u001b[0m\u001b[0mlr_schedulers\u001b[0m\u001b[0;34m)\u001b[0m\u001b[0;34m\u001b[0m\u001b[0;34m\u001b[0m\u001b[0m\n\u001b[1;32m    175\u001b[0m \u001b[0;34m\u001b[0m\u001b[0m\n\u001b[0;32m--> 176\u001b[0;31m         \u001b[0mself\u001b[0m\u001b[0;34m.\u001b[0m\u001b[0mrun_pretrain_routine\u001b[0m\u001b[0;34m(\u001b[0m\u001b[0mmodel\u001b[0m\u001b[0;34m)\u001b[0m\u001b[0;34m\u001b[0m\u001b[0;34m\u001b[0m\u001b[0m\n\u001b[0m\u001b[1;32m    177\u001b[0m \u001b[0;34m\u001b[0m\u001b[0m\n\u001b[1;32m    178\u001b[0m     \u001b[0;32mdef\u001b[0m \u001b[0mtpu_train\u001b[0m\u001b[0;34m(\u001b[0m\u001b[0mself\u001b[0m\u001b[0;34m,\u001b[0m \u001b[0mtpu_core_idx\u001b[0m\u001b[0;34m,\u001b[0m \u001b[0mmodel\u001b[0m\u001b[0;34m)\u001b[0m\u001b[0;34m:\u001b[0m\u001b[0;34m\u001b[0m\u001b[0;34m\u001b[0m\u001b[0m\n",
            "\u001b[0;32m/usr/local/lib/python3.6/dist-packages/pytorch_lightning/trainer/trainer.py\u001b[0m in \u001b[0;36mrun_pretrain_routine\u001b[0;34m(self, model)\u001b[0m\n\u001b[1;32m   1074\u001b[0m                                           \u001b[0mself\u001b[0m\u001b[0;34m.\u001b[0m\u001b[0mval_dataloaders\u001b[0m\u001b[0;34m,\u001b[0m\u001b[0;34m\u001b[0m\u001b[0;34m\u001b[0m\u001b[0m\n\u001b[1;32m   1075\u001b[0m                                           \u001b[0mmax_batches\u001b[0m\u001b[0;34m,\u001b[0m\u001b[0;34m\u001b[0m\u001b[0;34m\u001b[0m\u001b[0m\n\u001b[0;32m-> 1076\u001b[0;31m                                           False)\n\u001b[0m\u001b[1;32m   1077\u001b[0m             \u001b[0m_\u001b[0m\u001b[0;34m,\u001b[0m \u001b[0m_\u001b[0m\u001b[0;34m,\u001b[0m \u001b[0m_\u001b[0m\u001b[0;34m,\u001b[0m \u001b[0mcallback_metrics\u001b[0m\u001b[0;34m,\u001b[0m \u001b[0m_\u001b[0m \u001b[0;34m=\u001b[0m \u001b[0mself\u001b[0m\u001b[0;34m.\u001b[0m\u001b[0mprocess_output\u001b[0m\u001b[0;34m(\u001b[0m\u001b[0meval_results\u001b[0m\u001b[0;34m)\u001b[0m\u001b[0;34m\u001b[0m\u001b[0;34m\u001b[0m\u001b[0m\n\u001b[1;32m   1078\u001b[0m \u001b[0;34m\u001b[0m\u001b[0m\n",
            "\u001b[0;32m/usr/local/lib/python3.6/dist-packages/pytorch_lightning/trainer/evaluation_loop.py\u001b[0m in \u001b[0;36m_evaluate\u001b[0;34m(self, model, dataloaders, max_batches, test_mode)\u001b[0m\n\u001b[1;32m    279\u001b[0m                         \u001b[0moutput\u001b[0m \u001b[0;34m=\u001b[0m \u001b[0mself\u001b[0m\u001b[0;34m.\u001b[0m\u001b[0mevaluation_forward\u001b[0m\u001b[0;34m(\u001b[0m\u001b[0mmodel\u001b[0m\u001b[0;34m,\u001b[0m \u001b[0mbatch\u001b[0m\u001b[0;34m,\u001b[0m \u001b[0mbatch_idx\u001b[0m\u001b[0;34m,\u001b[0m \u001b[0mdataloader_idx\u001b[0m\u001b[0;34m,\u001b[0m \u001b[0mtest_mode\u001b[0m\u001b[0;34m)\u001b[0m\u001b[0;34m\u001b[0m\u001b[0;34m\u001b[0m\u001b[0m\n\u001b[1;32m    280\u001b[0m                 \u001b[0;32melse\u001b[0m\u001b[0;34m:\u001b[0m\u001b[0;34m\u001b[0m\u001b[0;34m\u001b[0m\u001b[0m\n\u001b[0;32m--> 281\u001b[0;31m                     \u001b[0moutput\u001b[0m \u001b[0;34m=\u001b[0m \u001b[0mself\u001b[0m\u001b[0;34m.\u001b[0m\u001b[0mevaluation_forward\u001b[0m\u001b[0;34m(\u001b[0m\u001b[0mmodel\u001b[0m\u001b[0;34m,\u001b[0m \u001b[0mbatch\u001b[0m\u001b[0;34m,\u001b[0m \u001b[0mbatch_idx\u001b[0m\u001b[0;34m,\u001b[0m \u001b[0mdataloader_idx\u001b[0m\u001b[0;34m,\u001b[0m \u001b[0mtest_mode\u001b[0m\u001b[0;34m)\u001b[0m\u001b[0;34m\u001b[0m\u001b[0;34m\u001b[0m\u001b[0m\n\u001b[0m\u001b[1;32m    282\u001b[0m \u001b[0;34m\u001b[0m\u001b[0m\n\u001b[1;32m    283\u001b[0m                 \u001b[0;31m# on dp / ddp2 might still want to do something with the batch parts\u001b[0m\u001b[0;34m\u001b[0m\u001b[0;34m\u001b[0m\u001b[0;34m\u001b[0m\u001b[0m\n",
            "\u001b[0;32m/usr/local/lib/python3.6/dist-packages/pytorch_lightning/trainer/evaluation_loop.py\u001b[0m in \u001b[0;36mevaluation_forward\u001b[0;34m(self, model, batch, batch_idx, dataloader_idx, test_mode)\u001b[0m\n\u001b[1;32m    450\u001b[0m             \u001b[0moutput\u001b[0m \u001b[0;34m=\u001b[0m \u001b[0mmodel\u001b[0m\u001b[0;34m.\u001b[0m\u001b[0mtest_step\u001b[0m\u001b[0;34m(\u001b[0m\u001b[0;34m*\u001b[0m\u001b[0margs\u001b[0m\u001b[0;34m)\u001b[0m\u001b[0;34m\u001b[0m\u001b[0;34m\u001b[0m\u001b[0m\n\u001b[1;32m    451\u001b[0m         \u001b[0;32melse\u001b[0m\u001b[0;34m:\u001b[0m\u001b[0;34m\u001b[0m\u001b[0;34m\u001b[0m\u001b[0m\n\u001b[0;32m--> 452\u001b[0;31m             \u001b[0moutput\u001b[0m \u001b[0;34m=\u001b[0m \u001b[0mmodel\u001b[0m\u001b[0;34m.\u001b[0m\u001b[0mvalidation_step\u001b[0m\u001b[0;34m(\u001b[0m\u001b[0;34m*\u001b[0m\u001b[0margs\u001b[0m\u001b[0;34m)\u001b[0m\u001b[0;34m\u001b[0m\u001b[0;34m\u001b[0m\u001b[0m\n\u001b[0m\u001b[1;32m    453\u001b[0m \u001b[0;34m\u001b[0m\u001b[0m\n\u001b[1;32m    454\u001b[0m         \u001b[0;32mreturn\u001b[0m \u001b[0moutput\u001b[0m\u001b[0;34m\u001b[0m\u001b[0;34m\u001b[0m\u001b[0m\n",
            "\u001b[0;32m<ipython-input-29-03d9ff09169c>\u001b[0m in \u001b[0;36mvalidation_step\u001b[0;34m(self, batch, batch_idx)\u001b[0m\n\u001b[1;32m     37\u001b[0m                                       \u001b[0mskip_special_tokens\u001b[0m\u001b[0;34m=\u001b[0m\u001b[0;32mFalse\u001b[0m\u001b[0;34m,\u001b[0m\u001b[0;34m\u001b[0m\u001b[0;34m\u001b[0m\u001b[0m\n\u001b[1;32m     38\u001b[0m                                       clean_up_tokenization_spaces=False)\n\u001b[0;32m---> 39\u001b[0;31m             ) for output_ids in outputs]\n\u001b[0m\u001b[1;32m     40\u001b[0m         \u001b[0;32mreturn\u001b[0m \u001b[0;34m{\u001b[0m\u001b[0;34m\"loss\"\u001b[0m\u001b[0;34m:\u001b[0m \u001b[0mloss\u001b[0m\u001b[0;34m,\u001b[0m \u001b[0;34m\"predicts\"\u001b[0m\u001b[0;34m:\u001b[0m \u001b[0mpredicts\u001b[0m\u001b[0;34m,\u001b[0m \u001b[0;34m\"inputs\"\u001b[0m\u001b[0;34m:\u001b[0m \u001b[0minputs\u001b[0m\u001b[0;34m,\u001b[0m                 \u001b[0;34m\"targets\"\u001b[0m\u001b[0;34m:\u001b[0m \u001b[0mtargets\u001b[0m\u001b[0;34m}\u001b[0m\u001b[0;34m\u001b[0m\u001b[0;34m\u001b[0m\u001b[0m\n\u001b[1;32m     41\u001b[0m \u001b[0;34m\u001b[0m\u001b[0m\n",
            "\u001b[0;32m<ipython-input-29-03d9ff09169c>\u001b[0m in \u001b[0;36m<listcomp>\u001b[0;34m(.0)\u001b[0m\n\u001b[1;32m     37\u001b[0m                                       \u001b[0mskip_special_tokens\u001b[0m\u001b[0;34m=\u001b[0m\u001b[0;32mFalse\u001b[0m\u001b[0;34m,\u001b[0m\u001b[0;34m\u001b[0m\u001b[0;34m\u001b[0m\u001b[0m\n\u001b[1;32m     38\u001b[0m                                       clean_up_tokenization_spaces=False)\n\u001b[0;32m---> 39\u001b[0;31m             ) for output_ids in outputs]\n\u001b[0m\u001b[1;32m     40\u001b[0m         \u001b[0;32mreturn\u001b[0m \u001b[0;34m{\u001b[0m\u001b[0;34m\"loss\"\u001b[0m\u001b[0;34m:\u001b[0m \u001b[0mloss\u001b[0m\u001b[0;34m,\u001b[0m \u001b[0;34m\"predicts\"\u001b[0m\u001b[0;34m:\u001b[0m \u001b[0mpredicts\u001b[0m\u001b[0;34m,\u001b[0m \u001b[0;34m\"inputs\"\u001b[0m\u001b[0;34m:\u001b[0m \u001b[0minputs\u001b[0m\u001b[0;34m,\u001b[0m                 \u001b[0;34m\"targets\"\u001b[0m\u001b[0;34m:\u001b[0m \u001b[0mtargets\u001b[0m\u001b[0;34m}\u001b[0m\u001b[0;34m\u001b[0m\u001b[0;34m\u001b[0m\u001b[0m\n\u001b[1;32m     41\u001b[0m \u001b[0;34m\u001b[0m\u001b[0m\n",
            "\u001b[0;32m/usr/local/lib/python3.6/dist-packages/transformers/tokenization_utils.py\u001b[0m in \u001b[0;36mdecode\u001b[0;34m(self, token_ids, skip_special_tokens, clean_up_tokenization_spaces)\u001b[0m\n\u001b[1;32m   2161\u001b[0m             \u001b[0mclean_up_tokenization_spaces\u001b[0m\u001b[0;34m:\u001b[0m \u001b[0;32mif\u001b[0m \u001b[0mset\u001b[0m \u001b[0mto\u001b[0m \u001b[0;32mTrue\u001b[0m\u001b[0;34m,\u001b[0m \u001b[0mwill\u001b[0m \u001b[0mclean\u001b[0m \u001b[0mup\u001b[0m \u001b[0mthe\u001b[0m \u001b[0mtokenization\u001b[0m \u001b[0mspaces\u001b[0m\u001b[0;34m.\u001b[0m\u001b[0;34m\u001b[0m\u001b[0;34m\u001b[0m\u001b[0m\n\u001b[1;32m   2162\u001b[0m         \"\"\"\n\u001b[0;32m-> 2163\u001b[0;31m         \u001b[0mfiltered_tokens\u001b[0m \u001b[0;34m=\u001b[0m \u001b[0mself\u001b[0m\u001b[0;34m.\u001b[0m\u001b[0mconvert_ids_to_tokens\u001b[0m\u001b[0;34m(\u001b[0m\u001b[0mtoken_ids\u001b[0m\u001b[0;34m,\u001b[0m \u001b[0mskip_special_tokens\u001b[0m\u001b[0;34m=\u001b[0m\u001b[0mskip_special_tokens\u001b[0m\u001b[0;34m)\u001b[0m\u001b[0;34m\u001b[0m\u001b[0;34m\u001b[0m\u001b[0m\n\u001b[0m\u001b[1;32m   2164\u001b[0m \u001b[0;34m\u001b[0m\u001b[0m\n\u001b[1;32m   2165\u001b[0m         \u001b[0;31m# To avoid mixing byte-level and unicode for byte-level BPT\u001b[0m\u001b[0;34m\u001b[0m\u001b[0;34m\u001b[0m\u001b[0;34m\u001b[0m\u001b[0m\n",
            "\u001b[0;32m/usr/local/lib/python3.6/dist-packages/transformers/tokenization_utils.py\u001b[0m in \u001b[0;36mconvert_ids_to_tokens\u001b[0;34m(self, ids, skip_special_tokens)\u001b[0m\n\u001b[1;32m   2128\u001b[0m                 \u001b[0;32mreturn\u001b[0m \u001b[0mself\u001b[0m\u001b[0;34m.\u001b[0m\u001b[0m_convert_id_to_token\u001b[0m\u001b[0;34m(\u001b[0m\u001b[0mids\u001b[0m\u001b[0;34m)\u001b[0m\u001b[0;34m\u001b[0m\u001b[0;34m\u001b[0m\u001b[0m\n\u001b[1;32m   2129\u001b[0m         \u001b[0mtokens\u001b[0m \u001b[0;34m=\u001b[0m \u001b[0;34m[\u001b[0m\u001b[0;34m]\u001b[0m\u001b[0;34m\u001b[0m\u001b[0;34m\u001b[0m\u001b[0m\n\u001b[0;32m-> 2130\u001b[0;31m         \u001b[0;32mfor\u001b[0m \u001b[0mindex\u001b[0m \u001b[0;32min\u001b[0m \u001b[0mids\u001b[0m\u001b[0;34m:\u001b[0m\u001b[0;34m\u001b[0m\u001b[0;34m\u001b[0m\u001b[0m\n\u001b[0m\u001b[1;32m   2131\u001b[0m             \u001b[0mindex\u001b[0m \u001b[0;34m=\u001b[0m \u001b[0mint\u001b[0m\u001b[0;34m(\u001b[0m\u001b[0mindex\u001b[0m\u001b[0;34m)\u001b[0m\u001b[0;34m\u001b[0m\u001b[0;34m\u001b[0m\u001b[0m\n\u001b[1;32m   2132\u001b[0m             \u001b[0;32mif\u001b[0m \u001b[0mskip_special_tokens\u001b[0m \u001b[0;32mand\u001b[0m \u001b[0mindex\u001b[0m \u001b[0;32min\u001b[0m \u001b[0mself\u001b[0m\u001b[0;34m.\u001b[0m\u001b[0mall_special_ids\u001b[0m\u001b[0;34m:\u001b[0m\u001b[0;34m\u001b[0m\u001b[0;34m\u001b[0m\u001b[0m\n",
            "\u001b[0;32m/usr/local/lib/python3.6/dist-packages/torch/tensor.py\u001b[0m in \u001b[0;36m__iter__\u001b[0;34m(self)\u001b[0m\n\u001b[1;32m    460\u001b[0m         \u001b[0;31m# map will interleave them.)\u001b[0m\u001b[0;34m\u001b[0m\u001b[0;34m\u001b[0m\u001b[0;34m\u001b[0m\u001b[0m\n\u001b[1;32m    461\u001b[0m         \u001b[0;32mif\u001b[0m \u001b[0mself\u001b[0m\u001b[0;34m.\u001b[0m\u001b[0mdim\u001b[0m\u001b[0;34m(\u001b[0m\u001b[0;34m)\u001b[0m \u001b[0;34m==\u001b[0m \u001b[0;36m0\u001b[0m\u001b[0;34m:\u001b[0m\u001b[0;34m\u001b[0m\u001b[0;34m\u001b[0m\u001b[0m\n\u001b[0;32m--> 462\u001b[0;31m             \u001b[0;32mraise\u001b[0m \u001b[0mTypeError\u001b[0m\u001b[0;34m(\u001b[0m\u001b[0;34m'iteration over a 0-d tensor'\u001b[0m\u001b[0;34m)\u001b[0m\u001b[0;34m\u001b[0m\u001b[0;34m\u001b[0m\u001b[0m\n\u001b[0m\u001b[1;32m    463\u001b[0m         \u001b[0;32mif\u001b[0m \u001b[0mtorch\u001b[0m\u001b[0;34m.\u001b[0m\u001b[0m_C\u001b[0m\u001b[0;34m.\u001b[0m\u001b[0m_get_tracing_state\u001b[0m\u001b[0;34m(\u001b[0m\u001b[0;34m)\u001b[0m\u001b[0;34m:\u001b[0m\u001b[0;34m\u001b[0m\u001b[0;34m\u001b[0m\u001b[0m\n\u001b[1;32m    464\u001b[0m             warnings.warn('Iterating over a tensor might cause the trace to be incorrect. '\n",
            "\u001b[0;31mTypeError\u001b[0m: iteration over a 0-d tensor"
          ]
        }
      ]
    },
    {
      "cell_type": "code",
      "metadata": {
        "id": "E9kUyRRVgpzq",
        "colab_type": "code",
        "colab": {}
      },
      "source": [
        "out[0]"
      ],
      "execution_count": null,
      "outputs": []
    },
    {
      "cell_type": "code",
      "metadata": {
        "id": "ycuub6dxk2yt",
        "colab_type": "code",
        "colab": {
          "base_uri": "https://localhost:8080/",
          "height": 867
        },
        "outputId": "f71c6c52-b024-4baf-b9fb-a8cbcd5d6ae8"
      },
      "source": [
        "out[1]"
      ],
      "execution_count": 12,
      "outputs": [
        {
          "output_type": "execute_result",
          "data": {
            "text/plain": [
              "tensor([[[ -9.4054,  -8.6048,  -8.2732,  ...,  -9.5237,  -8.1939,  -7.9912],\n",
              "         [ -7.0730,  -8.1739,  -7.8436,  ...,  -6.0889, -10.5214,  -6.3005],\n",
              "         [ -9.5637, -10.7983, -10.3706,  ...,  -6.7952, -11.4531,  -7.2657],\n",
              "         ...,\n",
              "         [-12.0864, -12.4690, -10.3375,  ..., -11.2548, -10.7601, -10.7757],\n",
              "         [ -8.8735,  -9.0423,  -7.7689,  ...,  -6.3143,  -7.1291,  -7.5126],\n",
              "         [ -9.4006,  -8.6055,  -8.2716,  ...,  -9.5150,  -8.1946,  -7.9779]],\n",
              "\n",
              "        [[ -8.1549,  -7.6893,  -8.2547,  ...,  -9.0093,  -6.3883,  -8.4629],\n",
              "         [ -8.6314,  -7.4760,  -5.9166,  ...,  -6.6270,  -5.1959,  -6.9518],\n",
              "         [ -6.5959, -10.0313,  -7.6038,  ...,  -5.0818,  -8.5121, -10.4720],\n",
              "         ...,\n",
              "         [ -6.1700,  -6.1061,  -6.3812,  ...,  -6.8128,  -6.3264,  -7.2589],\n",
              "         [ -7.3913,  -7.6567,  -6.2813,  ...,  -7.9391,  -5.7155,  -9.1154],\n",
              "         [ -8.9512,  -9.4239,  -8.2928,  ...,  -7.4815,  -6.5856,  -7.7257]],\n",
              "\n",
              "        [[ -9.0201,  -8.3548,  -9.0330,  ...,  -9.1926,  -7.0194,  -8.0021],\n",
              "         [ -3.9517,  -7.5083,  -5.1871,  ...,  -3.4806,  -7.7908,  -6.1585],\n",
              "         [-11.7558, -16.5905, -15.8971,  ..., -11.3052, -12.5764, -14.0103],\n",
              "         ...,\n",
              "         [ -7.0617,  -6.6386,  -7.6520,  ...,  -5.7599,  -5.4852,  -6.2941],\n",
              "         [ -8.8855,  -7.6215,  -8.7996,  ...,  -7.3256,  -7.7759,  -8.9735],\n",
              "         [ -9.0179,  -8.3542,  -9.0243,  ...,  -9.1893,  -7.0243,  -7.9929]],\n",
              "\n",
              "        ...,\n",
              "\n",
              "        [[ -6.6925,  -7.1691,  -6.2913,  ...,  -7.4757,  -6.6229,  -6.1988],\n",
              "         [ -3.6693,  -1.9570,  -0.8365,  ...,  -5.3955,  -4.0920,  -2.7349],\n",
              "         [ -7.9180,  -6.0661,  -6.1915,  ...,  -8.0505,  -8.6721,  -8.4616],\n",
              "         ...,\n",
              "         [ -3.0896,  -4.2752,  -3.6817,  ...,  -4.4563,  -5.1020,  -3.9442],\n",
              "         [ -3.7937,  -4.8986,  -4.5398,  ...,  -5.4318,  -6.0703,  -4.9489],\n",
              "         [ -2.8933,  -4.2927,  -3.8060,  ...,  -4.3154,  -4.9265,  -3.8687]],\n",
              "\n",
              "        [[ -8.1646,  -6.4948,  -7.0821,  ...,  -7.6287,  -5.9176,  -6.9126],\n",
              "         [ -3.8845,  -3.3955,  -2.6609,  ...,  -3.1411,  -5.0297,  -1.3860],\n",
              "         [ -3.9670,  -2.5799,  -3.4602,  ...,  -1.2799,  -4.7795,  -5.1279],\n",
              "         ...,\n",
              "         [ -8.2699,  -7.3285,  -9.1711,  ..., -10.0583,  -9.2076, -10.7819],\n",
              "         [ -6.6629,  -6.1428,  -4.6050,  ...,  -6.7722,  -7.1267, -10.8209],\n",
              "         [ -8.1670,  -6.4936,  -7.0761,  ...,  -7.6288,  -5.9217,  -6.9100]],\n",
              "\n",
              "        [[ -8.9150,  -8.8869,  -9.1002,  ...,  -8.9834,  -6.5059,  -7.0141],\n",
              "         [ -9.8076, -12.2005, -10.1901,  ...,  -8.2718,  -7.1237,  -9.4756],\n",
              "         [-10.9864, -10.8775,  -9.8846,  ..., -10.0320, -10.3306, -11.1256],\n",
              "         ...,\n",
              "         [ -5.4467,  -7.0511,  -4.9797,  ...,  -5.3526,  -5.4525,  -6.1283],\n",
              "         [ -5.9629,  -4.8855,  -5.9134,  ...,  -3.8193,  -4.3405,  -5.6147],\n",
              "         [ -7.0262,  -7.5017,  -5.7591,  ...,  -6.5340,  -5.7177,  -6.6826]]],\n",
              "       device='cuda:0', grad_fn=<AddBackward0>)"
            ]
          },
          "metadata": {
            "tags": []
          },
          "execution_count": 12
        }
      ]
    },
    {
      "cell_type": "code",
      "metadata": {
        "id": "IbkknO4Dk7RP",
        "colab_type": "code",
        "colab": {}
      },
      "source": [
        "del db_model"
      ],
      "execution_count": 19,
      "outputs": []
    },
    {
      "cell_type": "code",
      "metadata": {
        "id": "CDGfxIBQk_yN",
        "colab_type": "code",
        "colab": {
          "base_uri": "https://localhost:8080/",
          "height": 581
        },
        "outputId": "45f5d937-6555-4c6a-88a3-69d5b84abba1"
      },
      "source": [
        "out[3]"
      ],
      "execution_count": 14,
      "outputs": [
        {
          "output_type": "execute_result",
          "data": {
            "text/plain": [
              "('A flexibilidade e a facilidade de uso de hiperdocumentos na Web têm garantido um futuro cada vez mais promissor para a utilização de sistemas de hipertexto. Porém, quando a construção de hiperdocumentos envolve a montagem de milhares de páginas e centenas de milhares de links, ela se torna uma atividade que pode gerar muitas informações inconsistentes. Essa inconsistência, acrescida dos problemas inerentes à utilização de hipertextos, conhecidos por \"desorientação\" do usuário e \"sobrecarga cognitiva\" durante a navegação pelo hipertexto, faz com que a manutenção seja uma atividade complexa. Além disso, com um volume enorme de informações a serem analisadas, a manutenção se torna uma atividade muitas vezes negligenciada. ',\n",
              " '- A aceitação da computação paralela está intimamente ligada à possibilidade de portabilidade direta de programas entre sistemas heterogêneos; neste contexto, segundo alguns autores, o MPI pode tornar-se um padrão de grande importância no futuro da computação, tanto a nível acadêmico como comercial; sob esse ponto de vista, é importante estudar o comportamento de algumas de suas implementações; ',\n",
              " 'Com o desenvolvimento do ambiente de hipermídia SASHE em um projeto concluído no ICMC, e a partir dos primeiros experimentos obtidos com a criação de hiperdocumentos para ensino, pode-se observar que suas características constituem um recurso potencialmente utilizável por outros tipos de aplicação, que não somente as de ensino. Neste sentido, a possível generalização para outro domínio de aplicação, o de Engenharia Reversa de Software, foi nossa principal motivação para o início deste trabalho, e foi investigada como contribuição ao projeto anteriormente realizado.',\n",
              " 'Hoje, é possível desenvolver rapidamente um projeto de sistema digital empregando\\xadse novas metodologias como linguagens de descrição de hardware (HDLs), ferramentas de síntese lógica e simulação. Utilizando\\xadse os circuitos reconfiguráveis pode\\xadse implementar em campo, sem necessidade de processos de fabricação de chips, um protótipo ou a versão final do projeto desenvolvido. ',\n",
              " 'Dessa forma, considerando-se a concentração de trabalhos relacionados ao desenvolvimento de sistemas hipermídia e as limitações observadas nos trabalhos revisados relacionados à definição de requisitos para o desenvolvimento desses sistemas, este trabalho propõe um conjunto único de requisitos, que possui as propriedades de ser abrangente e suficientemente completo para auxiliar a etapa de engenharia de requisitos de um novo sistema ou para permitir a avaliação de um sistema já existente. Esse conjunto de requisitos considera tanto as necessidades do contexto educacional quanto as necessidades relacionadas aos ambientes de autoria hipermídia, suprindo, portanto, as limitações observadas naqueles trabalhos.',\n",
              " 'Os tutoriais geralmente possuem uma estrutura seqüencial rígida, com o programa apresentando informações sobre um assunto e, em seguida, fazendo uma série de perguntas a respeito. Conforme as respostas dadas às perguntas, o sistema prossegue ou desvia para rever o conteúdo ou proporcionar mais informação. Eles incorporam uma ou mais estratégias pedagógicas para efetuar um controle, pelo sistema, através da interação com o aprendiz (respostas a perguntas, por exemplo). Por causa da sua capacidade de transmitir informações de modo pedagogicamente organizado, os tutoriais são utilizados para instrução e treinamento. Entretanto, eles possuem diálogo limitado, pois estão presos à sua estrutura rígida de interação.',\n",
              " 'Muitas vezes, algumas características necessárias para uma aplicação, como boa precisão e confiabilidade (acurácia), ficam limitadas por restrições de custo ou complexidade dos sensores. ',\n",
              " 'A ferramenta tutorial, ainda não desenvolvida, será capaz de guiar o usuário através dos passos de uma tarefa, como por exemplo, a escolha da melhor expressão para escrever o propósito de um determinado artigo, dado um contexto específico. O modelo desta ferramenta segue os tutoriais de utilização de processadores de texto, planilhas e softwares de apresentação, por exemplo, que guiam o usuário através da funcionalidade do software dando exemplos e permitindo algum treinamento para as funções.',\n",
              " 'Numa outra linha de pesquisa, sob uma visão conexionista, estão surgindo muitas aplicações nesse campo. As Redes Neurais Artificiais têm se destacado com grande eficiência na resolução de problemas de Lingüística, em casos como reconhecimento de sentenças, problemas de ambigüidade, classificação de sentenças, etiquetagem sintática (atribuição de classe sintática às palavras individuais).',\n",
              " 'As aplicações em sistemas hipermídia abertos como produtos de software, segundo os princípios da engenharia de software, demandam modelos que sintetizem e suportem a automatização de seu desenvolvimento. Com a popularidade da WEB e o aumento da demanda pela utilização de aplicações hipermídia que se integrem de forma natural a diferentes ambientes, nota-se a necessidade de modelos voltados à especificação dessas aplicações fornecendo suporte, principalmente, a interoperabilidade.',\n",
              " 'Uma solução intuitiva para esse problema pode ser encontrada em Costa e Xexéo, onde o professor, além de fornecer suporte tecnológico, fornece endereços iniciais de pesquisa e verifica se as informações consultadas pelos aprendizes são compatíveis com os objetivos de ensino almejados.',\n",
              " 'Dentre os ambientes de programação via troca de mensagens, destacam-se as plataformas de portabilidade, (destinados a possibilitar o transporte de programas paralelos entre plataformas computacionais distintas) das quais dois representantes merecem destaque no cenário computacional atual: o MPI e o PVM. ',\n",
              " 'O projeto SIATE é constituído de dois subprojetos. O primeiro deles corresponde ao projeto e desenvolvimento de um Sistema Tutor que auxiliará o estudante, enquanto ele estiver navegando em um hiperdocumento, através da disponibilização de informações sobre um domínio específico, e também, ao desenvolvimento dos recursos hipermídia disponíveis no ambiente SIATE. O segundo subprojeto corresponde ao projeto e desenvolvimento de um Sistema Híbrido de Conhecimento, sobre o mesmo domínio, que servirá como fonte de informação ao estudante, que o acionará quando necessitarem de informações especialistas para solucionarem algum tipo de problema. Este último subprojeto é desenvolvido por outro trabalho de mestrado.',\n",
              " 'Usando o MRO, será definida toda a parte de esquema do banco de dados para inclusão de som. Neste modelo é feita a especificação de colônias, que são conjuntos de objetos de um mesmo tipo; objetos com seus respectivos relacionamentos e atributos, que podem ser classificados como: sinônimo, comentário, regra, procedimento, tempo, estrutura de dados, gráfico, imagens, áudio e visualização.',\n",
              " 'Quando de sua criação, a Web demandava uma linguagem simples e pequena para especificar a estrutura e a apresentação de documentos estáticos, igualmente simples. Dessa forma, muito dos recursos associados à utilização de SGML não eram necessários. Definida como uma aplicação de SGML, HTML (Hypertext MarkUp Language) é uma linguagem que fez sucesso por sua simplicidade. Entretanto, uma única linguagem não consegue suportar de modo satisfatório as inúmeras aplicações existentes hoje na Web. Assim, ênfase tem sido dada à definição de padrões, recomendações e formatos para a definição, manipulação e intercâmbio de hiperdocumentos estruturados suportados por sistemas hipermídia. ',\n",
              " 'No entanto, também podemos encontrar alguns problemas na utilização de sistemas hipermídia. Muitos artigos já trataram sobre a superexposição de informações ao usuário e a passagem do controle da seqüência do aprendizado do autor para o estudante. Logo, a flexibilidade oferecida pode levar o usuário a se perder no hiperdocumento como também dificultar o encontro das informações desejadas. Experiências reais com alunos têm mostrado que, na instrução baseada em hipertextos, alguns alunos encontraram dificuldades em ter que tomar muitas decisões e de saber navegar dentro de suas lições, fazendo com que se sintam desorientados.',\n",
              " 'Alguns autores têm explorado o uso do critério Análise de Mutantes no teste e validação de protocolos, fundamentalmente baseados em um modelo de erros - um conjunto restrito e preestabelecido de erros. Observa-se a relação com a hipótese do Programador Competente em nível de programa, na qual apóia-se o critério Análise de Mutantes. No trabalho de Fabbri, explorou-se a adequação do uso do conceito de mutação, especificamente do critério Análise de Mutantes, no contexto de teste e validação de aspectos comportamentais de Sistemas Reativos, considerando-se as técnicas baseadas em modelos de máquinas de transição de estados: Máquinas de Estados Finitos; Statecharts e Redes de Petri, originando diversos trabalhos. O critério Análise de Mutantes e critérios variantes, denominados Mutação Restrita e Mutação Aleatória, também foram definidos por Fabbri, assim como os operadores de mutação para as técnicas MEFs, Statecharts e Redes de Petri. Nessa mesma linha, Souza et al têm investigado a aplicação da Análise de Mutantes no contexto de especificações Estelle. ',\n",
              " 'A representação de grandes dicionários de língua natural, principalmente nos casos em que se trabalha com vários milhões (ou dezenas de milhões) de palavras, é um interessante problema computacional a ser tratado dentro da área de Processamento de Língua Natural (PLN). Autômatos finitos (AFs), largamente usados na construção de compiladores, são excelentes estruturas para representação desses dicionários, permitindo acesso direto aos às palavras e seus possíveis atributos (gênero, número, grau, etc).',\n",
              " 'A produção de material didático multimídia em ambiente WWW envolve fatores como o armazenamento, a editoração e a apresentação desse material. A questão do armazenamento de dados multimídia em ambientes WWW é um ponto chave, uma vez que o fornecimento do material desejado deve ser gerenciado de forma eficiente para evitar sobrecarga do sistema devido ao grande volume de dados e ao eventual grande número de usuários realizando acessos os dados. A utilização de servidores de dados multimídia baseados em sistemas VOD (Video\\xadOn\\xadDemand) é uma alternativa para se alcançar a eficiência exigida. Esses servidores realizam o armazenamento de dados como áudio, vídeo e gráficos (entre outros) em algum tipo de dispositivo físico (disco, fita, etc.). O armazenamento pode ser realizado com a ajuda de técnicas como RAID (Redundant Array of Inexpensive Disks), armazenamento hierárquico ou armazenamento terciário para aumentar a eficiência na gravação e na entrega dos dados. ',\n",
              " '- Estudos empíricos e teóricos são fundamentais para avaliar o custo de aplicação e a eficácia em revelar erros, permitindo também demonstrar as características importantes e aspectos complementares entre as técnicas de teste;',\n",
              " 'Atualmente, as aplicações comerciais caracterizam-se pela manipulação de dados que podem ser organizados em um conjunto relativamente pequeno de estruturas, mas por outro lado, com um grande volume de dados estruturalmente idênticos. No entanto, as aplicações não comerciais de sistemas de computação trabalham com dados que não apresentam esta mesma estrutura homogênea. Exemplo dessas aplicações são os sistemas CAD (Computer-Aided Design \\x96 Projeto Auxiliado por Computador), CAM (Computer-Aided Manufacturing \\x96 Manufatura Auxiliada por Computador), Sistema de Automação de Escritórios, entre outros. As aplicações não convencionais, em geral aproveitam os SGBDs já existentes, mesmo que estes não sejam adequados para estas aplicações. Esse aspecto faz que a falta de um núcleo comum de gerenciamento de dados traga problemas de compatibilidade entre os sistemas. Para sanar os problemas do emprego dos SGBDs disponíveis em aplicações não convencionais, muitas pesquisas estão sendo realizadas, para que novos modelos de dados possam dar o suporte necessário a uma ampla faixa de aplicações não convencionais. Estes modelos têm como objetivos suprir requisitos para a modelagem de sistemas não convencionais. ',\n",
              " 'Com a geração de léxicos a partir de corpus de treinamento, a etiquetagem de textos do inglês vem se tornando cada vez mais fácil - cerca de 90% da precisão geral de um etiquetador é efeito do simples uso do léxico na etiquetagem (probabilidades léxicas) e, cerca de 50% dos 10% restantes pode ser resolvido por modelos simples de n-gramas. Mas ainda existem 50% dos 10% restantes que fazem com que a etiquetagem não seja uma tarefa trivial. Estes 50% são resultado, por exemplo, dos problemas:',\n",
              " 'Com o auxílio de ferramentas de teste como a Proteum e a Mothra, que apóiam o critério Análise de Mutantes, da ferramenta Proteum/IM que apóia o critério Mutação de Interface, e de ferramentas como a Poke\\xadTool, Atac e Asset, que apóiam os critérios Baseados em Fluxo de Dados, vários experimentos têm sido conduzidos. O objetivo desses estudos é medir o desempenho do critério Análise de Mutantes, bem como verificar qual o seu relacionamento com outros critérios visando ao estabelecimento de uma estratégia de teste de baixo custo e alta eficácia em revelar a presença de erros.',\n",
              " 'Podem-se agrupar os critérios de teste em três técnicas: Técnica Funcional, Técnica Estrutural e Técnica Baseada em Erros. Em nível de programa, os critérios de teste existentes são complementares e devem ser aplicados em conjunto, aumentando dessa maneira a qualidade da atividade de teste. Um dos principais critérios da Técnica Baseada em Erros é o critério Análise de Mutantes, utilizado no contexto deste trabalho. ',\n",
              " 'Após alguns anos de experiência no desenvolvimento de software, percebeu-se que existem alguns fatores de qualidade, considerados pelos clientes, que não estão relacionados especificamente às características de qualidade do produto final. Esses fatores relacionam-se mais ao processo de software, à forma como ele é gerenciado e controlado. ',\n",
              " 'A segunda das ferramentas desenvolvidas foi a ferramenta de suporte, um assistente cooperativo responsável pela divisão de trabalho entre sistema e usuário com cada um sendo responsável por uma parte do problema: o assistente faz o que máquinas fazem melhor \\x96 indexar e  organizar adequadamente uma grande quantidade de informações que resolveram problemas no passado para apresentação ao usuário da informação mais similar àquela necessária a uma situação atual \\x96 enquanto que o usuário faz o resto. Esta ferramenta contém o conhecimento de estratégias retóricas necessárias para montar um parágrafo, assegurando coesão e coerência em pequenos pedaços de texto. ',\n",
              " \"O revisor DTS também é uma ferramenta mais completa de revisão, abordando quatro classes principais de erros: a revisão ortográfica; a revisão de estrutura, que localiza erros como falta de pontuação, uso desbalanceado de delimitadores, uso de palavras repetidas, etc.; a revisão gramatical que trata, entre outros, de erros de concordância nominal e verbal e uso indevido de crase; e a revisão de estilo, que verifica uso correto de pronome e da partícula 'se' e também de períodos muito longos.\",\n",
              " 'A comunidade de Tolerância a Defeitos no Brasil tem adotado o termo falha para fault, erro para error e defeito para failure, assim, referindo-se ao termo Fault Injection por Injeção de Falhas. Martins salienta que não existe ainda um consenso quanto à terminologia a ser utilizada em Português para os termos fault, error e failure. Para manter uma uniformização, adaptam-se os termos utilizados em trabalhos nacionais da área de Tolerância a Defeitos à terminologia utilizada neste trabalho.',\n",
              " 'Para fornecer comportamento adaptativo a um sistema, um modelo de usuário precisa ser implementado e mantido durante a interação com o usuário. Ele contem suposições explícitas sobre todos os aspectos do usuário que podem ser relevantes para a adaptação do sistema, como por exemplo, conhecimento necessário para operar no domínio, preferências, interesses e habilidades.',\n",
              " 'Várias questões pendentes do projeto original são resolvidas, além de se propor uma nova implementação para a semântica de comunicação do núcleo de Chamadas Remotas.',\n",
              " 'Vários modelos formais e métodos para modelar o domínio e descrever o projeto, a organização estrutural e a semântica de navegação de aplicações hipermídia têm sido propostos na literatura, como o RMM - Relationship Management Methodology, o OOHDM - Object Oriented Hypermedia Design Method, o AHM - Amsterdam Hypermedia Model e o EORM - Enhanced Object-Relationship Model. Entretanto, tais modelos ainda estão no seu início, sendo que muitos deles não são eficientes e expressivos, dificultando a sua utilização.',\n",
              " 'O objetivo principal deste mestrado é implementar uma arquitetura de agentes que se comunicam através da troca de mensagem com um agente especial que contém um modelo dinâmico do usuário interagindo com o ambiente.')"
            ]
          },
          "metadata": {
            "tags": []
          },
          "execution_count": 14
        }
      ]
    },
    {
      "cell_type": "code",
      "metadata": {
        "id": "4Vd8qbNRlDJo",
        "colab_type": "code",
        "colab": {
          "base_uri": "https://localhost:8080/",
          "height": 163
        },
        "outputId": "5aafe4b7-5a64-4fc8-d0ba-c0810cf71fb6"
      },
      "source": [
        "out[4][2]"
      ],
      "execution_count": 18,
      "outputs": [
        {
          "output_type": "error",
          "ename": "IndexError",
          "evalue": "ignored",
          "traceback": [
            "\u001b[0;31m---------------------------------------------------------------------------\u001b[0m",
            "\u001b[0;31mIndexError\u001b[0m                                Traceback (most recent call last)",
            "\u001b[0;32m<ipython-input-18-2f35371a8b62>\u001b[0m in \u001b[0;36m<module>\u001b[0;34m()\u001b[0m\n\u001b[0;32m----> 1\u001b[0;31m \u001b[0mout\u001b[0m\u001b[0;34m[\u001b[0m\u001b[0;36m4\u001b[0m\u001b[0;34m]\u001b[0m\u001b[0;34m[\u001b[0m\u001b[0;36m2\u001b[0m\u001b[0;34m]\u001b[0m\u001b[0;34m\u001b[0m\u001b[0;34m\u001b[0m\u001b[0m\n\u001b[0m",
            "\u001b[0;31mIndexError\u001b[0m: tuple index out of range"
          ]
        }
      ]
    },
    {
      "cell_type": "code",
      "metadata": {
        "id": "6_7vDh5clGF2",
        "colab_type": "code",
        "colab": {}
      },
      "source": [
        ""
      ],
      "execution_count": null,
      "outputs": []
    }
  ]
}